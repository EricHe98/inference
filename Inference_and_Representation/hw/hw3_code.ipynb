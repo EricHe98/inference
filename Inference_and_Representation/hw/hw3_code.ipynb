{
 "cells": [
  {
   "cell_type": "markdown",
   "metadata": {},
   "source": [
    "# Problem 1\n",
    "\n",
    "We use the provided package. However, its message passing methods are numerically unstable, so we edit those."
   ]
  },
  {
   "cell_type": "markdown",
   "metadata": {},
   "source": [
    "PS 3 - Question 2 <br>\n",
    "Inference and  Representation<br>\n",
    "NYU Center for Data Science<br>\n",
    "October 3, 2017\n",
    "\n",
    "It is a Python adaptation of the Matlab code provided in Brown University CS242 Homework 1:\n",
    "http://cs.brown.edu/courses/cs242/assignments/\n",
    "The factor graph library (fglib) is a Python 3 package to simulate message passing on factor graphs: https://github.com/danbar/fglib"
   ]
  },
  {
   "cell_type": "markdown",
   "metadata": {},
   "source": [
    "# We use an edit of the belief_propagation method from the inference package which has numerically stable estimation through a custom `spa` method and returns all marginal distributions"
   ]
  },
  {
   "cell_type": "code",
   "execution_count": 1,
   "metadata": {},
   "outputs": [],
   "source": [
    "import numpy as np \n",
    "import networkx as nx\n",
    "from fglib import graphs, nodes, rv, inference\n",
    "\n",
    "class LoggedDiscrete(rv.Discrete):\n",
    "    \"\"\"\n",
    "    Same as discrete RV, but with pmf expressed as logarithms\n",
    "    \n",
    "    We override the unity, __mul__, normalize, marginalize, argmax methods\n",
    "    Notably not overridden is the maximize method\n",
    "    \"\"\"\n",
    "    \n",
    "    def __init__(self, raw_pmf, *args):\n",
    "        super().__init__(raw_pmf, *args)\n",
    "    \n",
    "    @classmethod\n",
    "    def unity(cls, *args):\n",
    "        \"\"\"Initialize unit element of a discrete random variable.\n",
    "        Args:\n",
    "            *args: Instances of the class VNode representing the variables of\n",
    "                the probability mass function. The number of the positional\n",
    "                arguments must match the number of dimensions of the Numpy\n",
    "                array.\n",
    "        Raises:\n",
    "            ParameterException: An error occurred initializing with invalid\n",
    "                parameters.\n",
    "        \"\"\"\n",
    "        n = len(args)\n",
    "        return cls(np.zeros((1,) * n), *args)\n",
    "    \n",
    "    \n",
    "    def __mul__(self, other):\n",
    "        \"\"\"Multiply other with self and return the result.\n",
    "        Args:\n",
    "            other: Multiplier for the discrete random variable.\n",
    "        Returns:\n",
    "            A new discrete random variable representing the multiplication.\n",
    "        \"\"\"\n",
    "        # Verify dimensions of multiplicand and multiplier.\n",
    "        if len(self.dim) < len(other.dim):\n",
    "            self._expand(other.dim, other.pmf.shape)\n",
    "        elif len(self.dim) > len(other.dim):\n",
    "            other._expand(self.dim, self.pmf.shape)\n",
    "\n",
    "        pmf = self.pmf + other.pmf\n",
    "\n",
    "        return LoggedDiscrete(pmf, *self.dim)\n",
    "    \n",
    "#     def __add__(self, other):\n",
    "#         return self.__mul__(other)\n",
    "    \n",
    "    \n",
    "    def normalize(self):\n",
    "        \"\"\"Normalize probability mass function.\"\"\"\n",
    "        m = np.max(self.pmf)\n",
    "        # subtract max to avoid numerical underflow\n",
    "        pmf = np.exp(self.pmf - m)\n",
    "        # normalize\n",
    "        pmf = pmf / np.abs(np.sum(pmf))\n",
    "        # back to logs\n",
    "        pmf = np.log(pmf)\n",
    "        return LoggedDiscrete(pmf, *self.dim)\n",
    "    \n",
    "    \n",
    "    def marginalize(self, *dims, normalize=True):\n",
    "        \"\"\"Return the marginal for given dimensions.\n",
    "        The probability mass function of the discrete random variable\n",
    "        is marginalized along the given dimensions.\n",
    "        Args:\n",
    "            *dims: Instances of discrete random variables, which should be\n",
    "                marginalized out.\n",
    "            normalize: Boolean flag if probability mass function should be\n",
    "                normalized after marginalization.\n",
    "        Returns:\n",
    "            A new discrete random variable representing the marginal.\n",
    "        \"\"\"\n",
    "        axis = tuple(idx for idx, d in enumerate(self.dim) if d in dims)\n",
    "#         print('Premarginalization is')\n",
    "#         print(np.exp(self.pmf))\n",
    "        m = np.max(self.pmf)\n",
    "        e = np.exp(self.pmf - m)\n",
    "        pmf = np.sum(e, axis)\n",
    "        pmf = np.log(pmf) + m\n",
    "#         print('Post marginalization is ')\n",
    "#         print(np.exp(pmf))\n",
    "        \n",
    "#         pmf = np.sum(self.pmf, axis)\n",
    "        if normalize:\n",
    "            m = np.max(pmf)\n",
    "            e = np.exp(pmf - m)\n",
    "            pmf = np.log(e / np.sum(e)) + m\n",
    "\n",
    "        new_dims = tuple(d for d in self.dim if d not in dims)\n",
    "        return LoggedDiscrete(pmf, *new_dims)\n",
    "    \n",
    "    \n",
    "    def argmax(self, dim=None):\n",
    "        \"\"\"Return the dimension index of the maximum.\n",
    "        Args:\n",
    "            dim: An optional discrete random variable along a marginalization\n",
    "                should be performed and the maximum is searched over the\n",
    "                remaining dimensions. In the case of None, the maximum is\n",
    "                search along all dimensions.\n",
    "        Returns:\n",
    "            An integer representing the dimension of the maximum.\n",
    "        \"\"\"\n",
    "        if dim is None:\n",
    "            return np.unravel_index(self.pmf.argmax(), self.pmf.shape)\n",
    "        m = self.marginalize(dim)\n",
    "        return np.argmin(m.pmf)\n",
    "    \n",
    "    def from_discrete(cls, discrete):\n",
    "        \"\"\"\n",
    "        Converts a discrete RV object to a LoggedDiscrete object\n",
    "        \"\"\""
   ]
  },
  {
   "cell_type": "code",
   "execution_count": 2,
   "metadata": {},
   "outputs": [],
   "source": [
    "class LoggedFNode(nodes.FNode):\n",
    "    \n",
    "    def __init__(self, label, factor=None):\n",
    "        \"\"\"Create a factor node.\"\"\"\n",
    "        super().__init__(label, factor)\n",
    "    \n",
    "    def spa(self, tnode):\n",
    "        \"\"\"Return message of the sum-product algorithm.\"\"\"\n",
    "        # Initialize with local factor\n",
    "        msg = self.factor\n",
    "\n",
    "        # Product over incoming messages\n",
    "        for n in self.neighbors(tnode):\n",
    "#             print('Starting message is') \n",
    "#             print(np.exp(msg.pmf))\n",
    "#             print('With type')\n",
    "#             print(type(msg))\n",
    "            msgs = self.graph[n][self]['object'].get_message(n, self)\n",
    "#             print('Added message is')\n",
    "#             print(msgs)\n",
    "#             print(np.exp(msgs.pmf))\n",
    "#             print('With type')\n",
    "#             print(type(msgs))\n",
    "            msg *= self.graph[n][self]['object'].get_message(n, self)\n",
    "#             print('Final message is ')\n",
    "#             print(np.exp(msg.pmf))\n",
    "#             print('Next loop now \\n')\n",
    "        \n",
    "#         print('Type at marginalization')\n",
    "#         print(type(msg))\n",
    "        # Integration/Summation over incoming variables\n",
    "        for n in self.neighbors(tnode):\n",
    "            msg = msg.marginalize(n, normalize=False)\n",
    "\n",
    "        return msg\n",
    "    \n",
    "class LoggedVNode(nodes.VNode):\n",
    "    \n",
    "    def __init__(self, label, rv_type, observed=False):\n",
    "        \"\"\"Create a variable node.\"\"\"\n",
    "        super().__init__(label, rv_type, observed)\n",
    "    \n",
    "    def belief(self, normalize=True):\n",
    "        \"\"\"Return belief of the variable node.\n",
    "        Args:\n",
    "            normalize: Boolean flag if belief should be normalized.\n",
    "        \"\"\"\n",
    "        iterator = self.graph.neighbors(self)\n",
    "\n",
    "        # Pick first node\n",
    "        n = next(iterator)\n",
    "\n",
    "        # Product over all incoming messages\n",
    "        belief = self.graph[n][self]['object'].get_message(n, self)\n",
    "        for n in iterator:\n",
    "            belief *= self.graph[n][self]['object'].get_message(n, self)\n",
    "\n",
    "        if normalize:\n",
    "            belief = belief.normalize()\n",
    "\n",
    "        return belief\n",
    "    \n",
    "    \n",
    "    def maximum(self, normalize=True):\n",
    "        \"\"\"Return the maximum probability of the variable node.\n",
    "        Args:\n",
    "            normalize: Boolean flag if belief should be normalized.\n",
    "        \"\"\"\n",
    "        b = self.belief(normalize)\n",
    "        return np.amin(b.pmf)\n",
    "    \n",
    "    \n",
    "    def argmax(self):\n",
    "        \"\"\"Return the argument for maximum probability of the variable node.\"\"\"\n",
    "        # In case of multiple occurrences of the maximum values,\n",
    "        # the indices corresponding to the first occurrence are returned.\n",
    "        b = self.belief()\n",
    "        return b.argmin(self)\n",
    "    \n",
    "    \n",
    "    def spa(self, tnode):\n",
    "        \"\"\"Return message of the sum-product algorithm.\"\"\"\n",
    "        if self.observed:\n",
    "            return self.init\n",
    "        else:\n",
    "            # Initial message\n",
    "            msg = self.init\n",
    "#             print('Measuring pre type of vnode spa')\n",
    "#             print(type(msg))\n",
    "            # Product over incoming messages\n",
    "            for n in self.neighbors(tnode):\n",
    "#                 print('Adding message of type')\n",
    "#                 print(type(self.graph[n][self]['object'].get_message(n, self)))\n",
    "#                 print('For {} and {}'.format(str(n), str(self)))\n",
    "                msg *= self.graph[n][self]['object'].get_message(n, self)\n",
    "#             print('Measuring post type of vnode spa')\n",
    "#             print(type(msg))\n",
    "#             print('\\n')\n",
    "            return msg\n",
    "        "
   ]
  },
  {
   "cell_type": "code",
   "execution_count": 3,
   "metadata": {},
   "outputs": [],
   "source": [
    "def get_beliefs(fg):\n",
    "    \"\"\"Belief propagation.\n",
    "    Perform exact inference on tree structured fgs.\n",
    "    Return the belief of all query_nodes.\n",
    "    \"\"\" \n",
    "    # pick a random RV to start\n",
    "    from random import choice\n",
    "    query_node = choice(fg.get_vnodes())\n",
    "\n",
    "    # Depth First Search to determine edges\n",
    "    dfs = nx.dfs_edges(fg, query_node)\n",
    "\n",
    "    # Convert tuple to reversed list\n",
    "    backward_path = list(dfs)\n",
    "    forward_path = reversed(backward_path)    \n",
    "\n",
    "    # Messages in forward phase\n",
    "    for (v, u) in forward_path:  # Edge direction: u -> v\n",
    "        msg = u.spa(v)\n",
    "        fg[u][v]['object'].set_message(u, v, msg)\n",
    "\n",
    "    # Messages in backward phase\n",
    "    for (u, v) in backward_path:  # Edge direction: u -> v\n",
    "        msg = u.spa(v)\n",
    "        fg[u][v]['object'].set_message(u, v, msg)\n",
    "\n",
    "    # Retrieve marginal distributions\n",
    "    beliefs = []\n",
    "    for n in fg.get_vnodes():\n",
    "        beliefs.append(n.belief())\n",
    "    \n",
    "    return beliefs"
   ]
  },
  {
   "cell_type": "code",
   "execution_count": 4,
   "metadata": {},
   "outputs": [],
   "source": [
    "# Create factor graph\n",
    "fg = graphs.FactorGraph()\n",
    "\n",
    "# Create variable nodes\n",
    "x1 = LoggedVNode(\"x1\", LoggedDiscrete)\n",
    "x2 = LoggedVNode(\"x2\", LoggedDiscrete)\n",
    "x3 = LoggedVNode(\"x3\", LoggedDiscrete)\n",
    "x4 = LoggedVNode(\"x4\", LoggedDiscrete)\n",
    "\n",
    "# Create factor nodes\n",
    "f12 = LoggedFNode(\"f12\")\n",
    "f234 = LoggedFNode(\"f234\")\n",
    "f3 = LoggedFNode(\"f3\")\n",
    "f4 = LoggedFNode(\"f4\")\n",
    "\n",
    "# Add nodes to factor graph\n",
    "fg.set_nodes([x1, x2, x3, x4])\n",
    "fg.set_nodes([f12, f234, f3,f4 ])\n",
    "\n",
    "# Add edges to factor graph\n",
    "fg.set_edge(x1, f12)\n",
    "fg.set_edge(f12, x2)\n",
    "fg.set_edge(x2, f234)\n",
    "fg.set_edge(f234, x3)\n",
    "fg.set_edge(f234, x4)\n",
    "fg.set_edge(x3, f3)\n",
    "fg.set_edge(x4, f4)\n",
    "\n",
    "#add potential for f_3: p(x3)\n",
    "dist_f3 = np.log([0.5, 0.5]).tolist()\n",
    "f3.factor = LoggedDiscrete(dist_f3,x3)\n",
    "\n",
    "#add potential for f_4: p(x4)\n",
    "dist_f4 = np.log([0.4,0.6]).tolist()\n",
    "f4.factor = LoggedDiscrete(dist_f4,x4)\n",
    "\n",
    "# add potential for f_{234}: p(x2, x3, x4) = p(x2|x3,x4) p(x3,x4)\n",
    "px3x4=np.log(np.outer(np.exp(dist_f3),np.exp(dist_f4))) # WHAT is this\n",
    "px3x4=np.reshape(px3x4, np.shape(px3x4)+(1,))\n",
    "px2_conditioned_x3x4=np.log([[[0.2,0.8],\n",
    "                     [0.25,0.75],],\n",
    "                     [[0.7,0.3],\n",
    "                     [0.3,0.7]]]).tolist()\n",
    "\n",
    "dist_f234 =px3x4+px2_conditioned_x3x4 # __mul__\n",
    "f234.factor = LoggedDiscrete(dist_f234,x3,x4,x2)\n",
    "\n",
    "# add potential for f_{12}:  p (x1,x2) = p(x1 | x2) p(x2)\n",
    "px1_conditioned_x2 = np.log([[0.5,0.5],\n",
    "                     [0.7,0.3]]).tolist()\n",
    "# px2= np.sum(dist_f234, axis=(0,1)) \n",
    "# REPLACED with marginalization\n",
    "# use log-sum-exp\n",
    "m = np.max(dist_f234)\n",
    "px2 = np.log(np.exp(dist_f234 - m).sum(axis=(0,1))) + m\n",
    "dist_f12 = px2[:,np.newaxis]+px1_conditioned_x2 # __mul__\n",
    "f12.factor = LoggedDiscrete(dist_f12,x2,x1)\n",
    "# Perform sum-product algorithm on factor graph\n",
    "# and request belief of variable node x1\n",
    "# belief = inference.sum_product(fg, x3)"
   ]
  },
  {
   "cell_type": "code",
   "execution_count": 5,
   "metadata": {},
   "outputs": [
    {
     "name": "stdout",
     "output_type": "stream",
     "text": [
      "Belief of variable nodes \n",
      "[0.65897284 0.34102716]\n",
      "[0.20513578 0.79486422]\n",
      "[0.52640912 0.47359088]\n",
      "[0.28679718 0.71320282]\n"
     ]
    }
   ],
   "source": [
    "beliefs = get_beliefs(fg)\n",
    "# Print belief of variable nodes\n",
    "print(\"Belief of variable nodes \")\n",
    "for belief in beliefs:\n",
    "    print(np.exp(belief.pmf))"
   ]
  },
  {
   "cell_type": "code",
   "execution_count": 66,
   "metadata": {},
   "outputs": [
    {
     "data": {
      "text/plain": [
       "array([[[0.2],\n",
       "        [0.3]],\n",
       "\n",
       "       [[0.2],\n",
       "        [0.3]]])"
      ]
     },
     "execution_count": 66,
     "metadata": {},
     "output_type": "execute_result"
    }
   ],
   "source": [
    "np.exp(px3x4)"
   ]
  },
  {
   "cell_type": "code",
   "execution_count": 41,
   "metadata": {},
   "outputs": [
    {
     "data": {
      "text/plain": [
       "array([[[0.2 , 0.8 ],\n",
       "        [0.25, 0.75]],\n",
       "\n",
       "       [[0.7 , 0.3 ],\n",
       "        [0.3 , 0.7 ]]])"
      ]
     },
     "execution_count": 41,
     "metadata": {},
     "output_type": "execute_result"
    }
   ],
   "source": [
    "np.exp(px2_conditioned_x3x4)"
   ]
  },
  {
   "cell_type": "code",
   "execution_count": 67,
   "metadata": {},
   "outputs": [
    {
     "name": "stdout",
     "output_type": "stream",
     "text": [
      "Starting message is\n",
      "[[[0.04  0.16 ]\n",
      "  [0.075 0.225]]\n",
      "\n",
      " [[0.14  0.06 ]\n",
      "  [0.09  0.21 ]]]\n",
      "Added message is\n",
      "[-0.69314718 -0.69314718]\n",
      "[0.5 0.5]\n",
      "Final message is \n",
      "[[[0.02   0.08  ]\n",
      "  [0.0375 0.1125]]\n",
      "\n",
      " [[0.07   0.03  ]\n",
      "  [0.045  0.105 ]]]\n",
      "Next loop now \n",
      "\n",
      "Starting message is\n",
      "[[[0.02   0.08  ]\n",
      "  [0.0375 0.1125]]\n",
      "\n",
      " [[0.07   0.03  ]\n",
      "  [0.045  0.105 ]]]\n",
      "Added message is\n",
      "[-0.91629073 -0.51082562]\n",
      "[0.4 0.6]\n",
      "Final message is \n",
      "[[[0.008  0.032 ]\n",
      "  [0.0225 0.0675]]\n",
      "\n",
      " [[0.028  0.012 ]\n",
      "  [0.027  0.063 ]]]\n",
      "Next loop now \n",
      "\n",
      "Starting message is\n",
      "[[0.1725 0.1725]\n",
      " [0.4585 0.1965]]\n",
      "Added message is\n",
      "[[0.]\n",
      " [0.]]\n",
      "[[1.]\n",
      " [1.]]\n",
      "Final message is \n",
      "[[0.1725 0.1725]\n",
      " [0.4585 0.1965]]\n",
      "Next loop now \n",
      "\n",
      "Starting message is\n",
      "[[0.1725 0.1725]\n",
      " [0.4585 0.1965]]\n",
      "Added message is\n",
      "[-2.4592389  -1.74583054]\n",
      "[0.0855 0.1745]\n",
      "Final message is \n",
      "[[0.01474875 0.01474875]\n",
      " [0.08000825 0.03428925]]\n",
      "Next loop now \n",
      "\n",
      "Starting message is\n",
      "[[[0.04  0.16 ]\n",
      "  [0.075 0.225]]\n",
      "\n",
      " [[0.14  0.06 ]\n",
      "  [0.09  0.21 ]]]\n",
      "Added message is\n",
      "[-1.06421086 -0.42312004]\n",
      "[0.345 0.655]\n",
      "Final message is \n",
      "[[[0.0138   0.1048  ]\n",
      "  [0.025875 0.147375]]\n",
      "\n",
      " [[0.0483   0.0393  ]\n",
      "  [0.03105  0.13755 ]]]\n",
      "Next loop now \n",
      "\n",
      "Starting message is\n",
      "[[[0.0138   0.1048  ]\n",
      "  [0.025875 0.147375]]\n",
      "\n",
      " [[0.0483   0.0393  ]\n",
      "  [0.03105  0.13755 ]]]\n",
      "Added message is\n",
      "[[[-0.91629073 -0.91629073]\n",
      "  [-0.51082562 -0.51082562]]\n",
      "\n",
      " [[-0.91629073 -0.91629073]\n",
      "  [-0.51082562 -0.51082562]]]\n",
      "[[[0.4 0.4]\n",
      "  [0.6 0.6]]\n",
      "\n",
      " [[0.4 0.4]\n",
      "  [0.6 0.6]]]\n",
      "Final message is \n",
      "[[[0.00552  0.04192 ]\n",
      "  [0.015525 0.088425]]\n",
      "\n",
      " [[0.01932  0.01572 ]\n",
      "  [0.01863  0.08253 ]]]\n",
      "Next loop now \n",
      "\n",
      "Starting message is\n",
      "[[[0.04  0.16 ]\n",
      "  [0.075 0.225]]\n",
      "\n",
      " [[0.14  0.06 ]\n",
      "  [0.09  0.21 ]]]\n",
      "Added message is\n",
      "[[[-1.06421086 -0.42312004]\n",
      "  [-1.06421086 -0.42312004]]\n",
      "\n",
      " [[-1.06421086 -0.42312004]\n",
      "  [-1.06421086 -0.42312004]]]\n",
      "[[[0.345 0.655]\n",
      "  [0.345 0.655]]\n",
      "\n",
      " [[0.345 0.655]\n",
      "  [0.345 0.655]]]\n",
      "Final message is \n",
      "[[[0.0138   0.1048  ]\n",
      "  [0.025875 0.147375]]\n",
      "\n",
      " [[0.0483   0.0393  ]\n",
      "  [0.03105  0.13755 ]]]\n",
      "Next loop now \n",
      "\n",
      "Starting message is\n",
      "[[[0.0138   0.1048  ]\n",
      "  [0.025875 0.147375]]\n",
      "\n",
      " [[0.0483   0.0393  ]\n",
      "  [0.03105  0.13755 ]]]\n",
      "Added message is\n",
      "[[[-0.69314718 -0.69314718]\n",
      "  [-0.69314718 -0.69314718]]\n",
      "\n",
      " [[-0.69314718 -0.69314718]\n",
      "  [-0.69314718 -0.69314718]]]\n",
      "[[[0.5 0.5]\n",
      "  [0.5 0.5]]\n",
      "\n",
      " [[0.5 0.5]\n",
      "  [0.5 0.5]]]\n",
      "Final message is \n",
      "[[[0.0069    0.0524   ]\n",
      "  [0.0129375 0.0736875]]\n",
      "\n",
      " [[0.02415   0.01965  ]\n",
      "  [0.015525  0.068775 ]]]\n",
      "Next loop now \n",
      "\n",
      "Belief of variable nodes \n",
      "[0.01764037 0.00912912]\n",
      "[0.00518191 0.02007896]\n",
      "[0.01436932 0.01292755]\n",
      "[0.00754523 0.01876337]\n"
     ]
    }
   ],
   "source": [
    "beliefs = get_beliefs(fg)\n",
    "# Print belief of variable nodes\n",
    "print(\"Belief of variable nodes \")\n",
    "for belief in beliefs:\n",
    "    print(np.exp(belief.pmf))"
   ]
  },
  {
   "cell_type": "code",
   "execution_count": null,
   "metadata": {},
   "outputs": [],
   "source": []
  },
  {
   "cell_type": "code",
   "execution_count": null,
   "metadata": {},
   "outputs": [],
   "source": []
  },
  {
   "cell_type": "code",
   "execution_count": null,
   "metadata": {},
   "outputs": [],
   "source": []
  },
  {
   "cell_type": "code",
   "execution_count": null,
   "metadata": {},
   "outputs": [],
   "source": []
  },
  {
   "cell_type": "code",
   "execution_count": null,
   "metadata": {},
   "outputs": [],
   "source": []
  },
  {
   "cell_type": "code",
   "execution_count": 49,
   "metadata": {},
   "outputs": [
    {
     "name": "stdout",
     "output_type": "stream",
     "text": [
      "f12 x1\n",
      "f12 x2\n",
      "f234 x2\n",
      "f234 x3\n",
      "f234 x4\n",
      "f3 x3\n",
      "f4 x4\n"
     ]
    }
   ],
   "source": [
    "# initialize factor to variable data structure\n",
    "# keys are factors, variables\n",
    "f2v = {}\n",
    "for f in fg.get_fnodes():\n",
    "    vs = f.neighbors()\n",
    "    for v in vs:\n",
    "        f2v[f][v] = 0\n",
    "\n",
    "# initialize variable to factor data structure\n",
    "# keys are variables, factors\n",
    "v2f = {}\n",
    "for v in fg.get_vnodes():\n",
    "    fs = v.neighbors()\n",
    "    for f in fs:\n",
    "        v2f[v][f] = 1\n",
    "\n",
    "# variable to factor pass\n",
    "for f in fg.get_fnodes():\n",
    "    vs = f.neighbors()\n",
    "    for v in vs:\n",
    "        s = 0 # log-message sum\n",
    "        # sum up the logged factor to variable messages for v\n",
    "        for f_ in v.neighbors(f):\n",
    "            s = s + f2v[f_][v]\n",
    "        v2f[v][f] = s\n",
    "        \n",
    "# factor to variable pass\n",
    "for v in df.get_vnodes():\n",
    "    fs = v.neighbors()\n",
    "    ss = {}\n",
    "    # get sum of log-messages\n",
    "    for f in fs:\n",
    "        s = 0 # log-message sum\n",
    "        # sum up the logged variable to factor messages for v\n",
    "        for v_ in f.neighbors(v):\n",
    "            s = s + v2f[v_][f]\n",
    "        ss[f] = s\n",
    "    # subtract the max to ensure numerical instability upon exponentiation\n",
    "    m = max(ss.values())\n",
    "    for f in fs:\n",
    "        s2p = 0\n",
    "        for POSSIBLE SLICE OF PMF:\n",
    "            s2p = s2p + f.marginalize(v) * np.exp(s - m)\n",
    "        # transform back to log space\n",
    "        f2v[f][v] = np.log(s2p)\n",
    "        \n",
    "    # operate the "
   ]
  },
  {
   "cell_type": "code",
   "execution_count": null,
   "metadata": {},
   "outputs": [],
   "source": []
  },
  {
   "cell_type": "code",
   "execution_count": null,
   "metadata": {},
   "outputs": [],
   "source": []
  },
  {
   "cell_type": "code",
   "execution_count": null,
   "metadata": {},
   "outputs": [],
   "source": []
  },
  {
   "cell_type": "code",
   "execution_count": null,
   "metadata": {},
   "outputs": [],
   "source": []
  },
  {
   "cell_type": "code",
   "execution_count": 5,
   "metadata": {},
   "outputs": [],
   "source": [
    "query_node = fg.get_vnodes()[0]\n",
    "\n",
    "# Depth First Search to determine edges\n",
    "dfs = nx.dfs_edges(fg, query_node)\n",
    "\n",
    "# Convert tuple to reversed list\n",
    "backward_path = list(dfs)\n",
    "forward_path = reversed(backward_path)    "
   ]
  },
  {
   "cell_type": "code",
   "execution_count": 6,
   "metadata": {},
   "outputs": [],
   "source": [
    "a = next(forward_path)"
   ]
  },
  {
   "cell_type": "code",
   "execution_count": 7,
   "metadata": {},
   "outputs": [
    {
     "ename": "AttributeError",
     "evalue": "'NoneType' object has no attribute 'dim'",
     "output_type": "error",
     "traceback": [
      "\u001b[0;31m---------------------------------------------------------------------------\u001b[0m",
      "\u001b[0;31mAttributeError\u001b[0m                            Traceback (most recent call last)",
      "\u001b[0;32m<ipython-input-7-fc6d3cce2eb6>\u001b[0m in \u001b[0;36m<module>\u001b[0;34m\u001b[0m\n\u001b[0;32m----> 1\u001b[0;31m \u001b[0mnp\u001b[0m\u001b[0;34m.\u001b[0m\u001b[0mexp\u001b[0m\u001b[0;34m(\u001b[0m\u001b[0ma\u001b[0m\u001b[0;34m[\u001b[0m\u001b[0;36m0\u001b[0m\u001b[0;34m]\u001b[0m\u001b[0;34m.\u001b[0m\u001b[0mspa\u001b[0m\u001b[0;34m(\u001b[0m\u001b[0ma\u001b[0m\u001b[0;34m[\u001b[0m\u001b[0;36m1\u001b[0m\u001b[0;34m]\u001b[0m\u001b[0;34m)\u001b[0m\u001b[0;34m.\u001b[0m\u001b[0mpmf\u001b[0m\u001b[0;34m)\u001b[0m\u001b[0;34m\u001b[0m\u001b[0;34m\u001b[0m\u001b[0m\n\u001b[0m",
      "\u001b[0;32m<ipython-input-2-8960f52241e1>\u001b[0m in \u001b[0;36mspa\u001b[0;34m(self, tnode)\u001b[0m\n\u001b[1;32m     74\u001b[0m             \u001b[0;31m# Product over incoming messages\u001b[0m\u001b[0;34m\u001b[0m\u001b[0;34m\u001b[0m\u001b[0;34m\u001b[0m\u001b[0m\n\u001b[1;32m     75\u001b[0m             \u001b[0;32mfor\u001b[0m \u001b[0mn\u001b[0m \u001b[0;32min\u001b[0m \u001b[0mself\u001b[0m\u001b[0;34m.\u001b[0m\u001b[0mneighbors\u001b[0m\u001b[0;34m(\u001b[0m\u001b[0mtnode\u001b[0m\u001b[0;34m)\u001b[0m\u001b[0;34m:\u001b[0m\u001b[0;34m\u001b[0m\u001b[0;34m\u001b[0m\u001b[0m\n\u001b[0;32m---> 76\u001b[0;31m                 \u001b[0mmsg\u001b[0m \u001b[0;34m+=\u001b[0m \u001b[0mself\u001b[0m\u001b[0;34m.\u001b[0m\u001b[0mgraph\u001b[0m\u001b[0;34m[\u001b[0m\u001b[0mn\u001b[0m\u001b[0;34m]\u001b[0m\u001b[0;34m[\u001b[0m\u001b[0mself\u001b[0m\u001b[0;34m]\u001b[0m\u001b[0;34m[\u001b[0m\u001b[0;34m'object'\u001b[0m\u001b[0;34m]\u001b[0m\u001b[0;34m.\u001b[0m\u001b[0mget_message\u001b[0m\u001b[0;34m(\u001b[0m\u001b[0mn\u001b[0m\u001b[0;34m,\u001b[0m \u001b[0mself\u001b[0m\u001b[0;34m)\u001b[0m\u001b[0;34m\u001b[0m\u001b[0;34m\u001b[0m\u001b[0m\n\u001b[0m\u001b[1;32m     77\u001b[0m \u001b[0;34m\u001b[0m\u001b[0m\n\u001b[1;32m     78\u001b[0m             \u001b[0;32mreturn\u001b[0m \u001b[0mmsg\u001b[0m\u001b[0;34m\u001b[0m\u001b[0;34m\u001b[0m\u001b[0m\n",
      "\u001b[0;32m/usr/local/lib/python3.6/dist-packages/fglib/rv.py\u001b[0m in \u001b[0;36m__iadd__\u001b[0;34m(self, other)\u001b[0m\n\u001b[1;32m    229\u001b[0m \u001b[0;34m\u001b[0m\u001b[0m\n\u001b[1;32m    230\u001b[0m         \"\"\"\n\u001b[0;32m--> 231\u001b[0;31m         \u001b[0;32mreturn\u001b[0m \u001b[0mself\u001b[0m\u001b[0;34m.\u001b[0m\u001b[0m__add__\u001b[0m\u001b[0;34m(\u001b[0m\u001b[0mother\u001b[0m\u001b[0;34m)\u001b[0m\u001b[0;34m\u001b[0m\u001b[0;34m\u001b[0m\u001b[0m\n\u001b[0m\u001b[1;32m    232\u001b[0m \u001b[0;34m\u001b[0m\u001b[0m\n\u001b[1;32m    233\u001b[0m     \u001b[0;32mdef\u001b[0m \u001b[0m__isub__\u001b[0m\u001b[0;34m(\u001b[0m\u001b[0mself\u001b[0m\u001b[0;34m,\u001b[0m \u001b[0mother\u001b[0m\u001b[0;34m)\u001b[0m\u001b[0;34m:\u001b[0m\u001b[0;34m\u001b[0m\u001b[0;34m\u001b[0m\u001b[0m\n",
      "\u001b[0;32m/usr/local/lib/python3.6/dist-packages/fglib/rv.py\u001b[0m in \u001b[0;36m__add__\u001b[0;34m(self, other)\u001b[0m\n\u001b[1;32m    170\u001b[0m         \"\"\"\n\u001b[1;32m    171\u001b[0m         \u001b[0;31m# Verify dimensions of summand and summand.\u001b[0m\u001b[0;34m\u001b[0m\u001b[0;34m\u001b[0m\u001b[0;34m\u001b[0m\u001b[0m\n\u001b[0;32m--> 172\u001b[0;31m         \u001b[0;32mif\u001b[0m \u001b[0mlen\u001b[0m\u001b[0;34m(\u001b[0m\u001b[0mself\u001b[0m\u001b[0;34m.\u001b[0m\u001b[0mdim\u001b[0m\u001b[0;34m)\u001b[0m \u001b[0;34m<\u001b[0m \u001b[0mlen\u001b[0m\u001b[0;34m(\u001b[0m\u001b[0mother\u001b[0m\u001b[0;34m.\u001b[0m\u001b[0mdim\u001b[0m\u001b[0;34m)\u001b[0m\u001b[0;34m:\u001b[0m\u001b[0;34m\u001b[0m\u001b[0;34m\u001b[0m\u001b[0m\n\u001b[0m\u001b[1;32m    173\u001b[0m             \u001b[0mself\u001b[0m\u001b[0;34m.\u001b[0m\u001b[0m_expand\u001b[0m\u001b[0;34m(\u001b[0m\u001b[0mother\u001b[0m\u001b[0;34m.\u001b[0m\u001b[0mdim\u001b[0m\u001b[0;34m,\u001b[0m \u001b[0mother\u001b[0m\u001b[0;34m.\u001b[0m\u001b[0mpmf\u001b[0m\u001b[0;34m.\u001b[0m\u001b[0mshape\u001b[0m\u001b[0;34m)\u001b[0m\u001b[0;34m\u001b[0m\u001b[0;34m\u001b[0m\u001b[0m\n\u001b[1;32m    174\u001b[0m         \u001b[0;32melif\u001b[0m \u001b[0mlen\u001b[0m\u001b[0;34m(\u001b[0m\u001b[0mself\u001b[0m\u001b[0;34m.\u001b[0m\u001b[0mdim\u001b[0m\u001b[0;34m)\u001b[0m \u001b[0;34m>\u001b[0m \u001b[0mlen\u001b[0m\u001b[0;34m(\u001b[0m\u001b[0mother\u001b[0m\u001b[0;34m.\u001b[0m\u001b[0mdim\u001b[0m\u001b[0;34m)\u001b[0m\u001b[0;34m:\u001b[0m\u001b[0;34m\u001b[0m\u001b[0;34m\u001b[0m\u001b[0m\n",
      "\u001b[0;31mAttributeError\u001b[0m: 'NoneType' object has no attribute 'dim'"
     ]
    }
   ],
   "source": [
    "np.exp(a[0].spa(a[1]).pmf)"
   ]
  },
  {
   "cell_type": "code",
   "execution_count": 8,
   "metadata": {},
   "outputs": [
    {
     "data": {
      "text/plain": [
       "(<__main__.LoggedVNode at 0x7f545fc88f28>,\n",
       " <__main__.LoggedFNode at 0x7f545fca90b8>)"
      ]
     },
     "execution_count": 8,
     "metadata": {},
     "output_type": "execute_result"
    }
   ],
   "source": []
  },
  {
   "cell_type": "code",
   "execution_count": 12,
   "metadata": {},
   "outputs": [],
   "source": [
    "self.graph[n][self]['object'].get_message(n, self)"
   ]
  },
  {
   "cell_type": "code",
   "execution_count": 14,
   "metadata": {},
   "outputs": [
    {
     "data": {
      "text/plain": [
       "array([0.])"
      ]
     },
     "execution_count": 14,
     "metadata": {},
     "output_type": "execute_result"
    }
   ],
   "source": [
    "self.init.pmf"
   ]
  },
  {
   "cell_type": "code",
   "execution_count": 9,
   "metadata": {},
   "outputs": [
    {
     "ename": "AttributeError",
     "evalue": "'NoneType' object has no attribute 'dim'",
     "output_type": "error",
     "traceback": [
      "\u001b[0;31m---------------------------------------------------------------------------\u001b[0m",
      "\u001b[0;31mAttributeError\u001b[0m                            Traceback (most recent call last)",
      "\u001b[0;32m<ipython-input-9-9724d8657e42>\u001b[0m in \u001b[0;36m<module>\u001b[0;34m\u001b[0m\n\u001b[1;32m     10\u001b[0m     \u001b[0;31m# Product over incoming messages\u001b[0m\u001b[0;34m\u001b[0m\u001b[0;34m\u001b[0m\u001b[0;34m\u001b[0m\u001b[0m\n\u001b[1;32m     11\u001b[0m     \u001b[0;32mfor\u001b[0m \u001b[0mn\u001b[0m \u001b[0;32min\u001b[0m \u001b[0mself\u001b[0m\u001b[0;34m.\u001b[0m\u001b[0mneighbors\u001b[0m\u001b[0;34m(\u001b[0m\u001b[0mtnode\u001b[0m\u001b[0;34m)\u001b[0m\u001b[0;34m:\u001b[0m\u001b[0;34m\u001b[0m\u001b[0;34m\u001b[0m\u001b[0m\n\u001b[0;32m---> 12\u001b[0;31m         \u001b[0mmsg\u001b[0m \u001b[0;34m+=\u001b[0m \u001b[0mself\u001b[0m\u001b[0;34m.\u001b[0m\u001b[0mgraph\u001b[0m\u001b[0;34m[\u001b[0m\u001b[0mn\u001b[0m\u001b[0;34m]\u001b[0m\u001b[0;34m[\u001b[0m\u001b[0mself\u001b[0m\u001b[0;34m]\u001b[0m\u001b[0;34m[\u001b[0m\u001b[0;34m'object'\u001b[0m\u001b[0;34m]\u001b[0m\u001b[0;34m.\u001b[0m\u001b[0mget_message\u001b[0m\u001b[0;34m(\u001b[0m\u001b[0mn\u001b[0m\u001b[0;34m,\u001b[0m \u001b[0mself\u001b[0m\u001b[0;34m)\u001b[0m\u001b[0;34m\u001b[0m\u001b[0;34m\u001b[0m\u001b[0m\n\u001b[0m\u001b[1;32m     13\u001b[0m \u001b[0;34m\u001b[0m\u001b[0m\n\u001b[1;32m     14\u001b[0m \u001b[0mmsg\u001b[0m\u001b[0;34m.\u001b[0m\u001b[0mpmf\u001b[0m\u001b[0;34m\u001b[0m\u001b[0;34m\u001b[0m\u001b[0m\n",
      "\u001b[0;32m/usr/local/lib/python3.6/dist-packages/fglib/rv.py\u001b[0m in \u001b[0;36m__iadd__\u001b[0;34m(self, other)\u001b[0m\n\u001b[1;32m    229\u001b[0m \u001b[0;34m\u001b[0m\u001b[0m\n\u001b[1;32m    230\u001b[0m         \"\"\"\n\u001b[0;32m--> 231\u001b[0;31m         \u001b[0;32mreturn\u001b[0m \u001b[0mself\u001b[0m\u001b[0;34m.\u001b[0m\u001b[0m__add__\u001b[0m\u001b[0;34m(\u001b[0m\u001b[0mother\u001b[0m\u001b[0;34m)\u001b[0m\u001b[0;34m\u001b[0m\u001b[0;34m\u001b[0m\u001b[0m\n\u001b[0m\u001b[1;32m    232\u001b[0m \u001b[0;34m\u001b[0m\u001b[0m\n\u001b[1;32m    233\u001b[0m     \u001b[0;32mdef\u001b[0m \u001b[0m__isub__\u001b[0m\u001b[0;34m(\u001b[0m\u001b[0mself\u001b[0m\u001b[0;34m,\u001b[0m \u001b[0mother\u001b[0m\u001b[0;34m)\u001b[0m\u001b[0;34m:\u001b[0m\u001b[0;34m\u001b[0m\u001b[0;34m\u001b[0m\u001b[0m\n",
      "\u001b[0;32m/usr/local/lib/python3.6/dist-packages/fglib/rv.py\u001b[0m in \u001b[0;36m__add__\u001b[0;34m(self, other)\u001b[0m\n\u001b[1;32m    170\u001b[0m         \"\"\"\n\u001b[1;32m    171\u001b[0m         \u001b[0;31m# Verify dimensions of summand and summand.\u001b[0m\u001b[0;34m\u001b[0m\u001b[0;34m\u001b[0m\u001b[0;34m\u001b[0m\u001b[0m\n\u001b[0;32m--> 172\u001b[0;31m         \u001b[0;32mif\u001b[0m \u001b[0mlen\u001b[0m\u001b[0;34m(\u001b[0m\u001b[0mself\u001b[0m\u001b[0;34m.\u001b[0m\u001b[0mdim\u001b[0m\u001b[0;34m)\u001b[0m \u001b[0;34m<\u001b[0m \u001b[0mlen\u001b[0m\u001b[0;34m(\u001b[0m\u001b[0mother\u001b[0m\u001b[0;34m.\u001b[0m\u001b[0mdim\u001b[0m\u001b[0;34m)\u001b[0m\u001b[0;34m:\u001b[0m\u001b[0;34m\u001b[0m\u001b[0;34m\u001b[0m\u001b[0m\n\u001b[0m\u001b[1;32m    173\u001b[0m             \u001b[0mself\u001b[0m\u001b[0;34m.\u001b[0m\u001b[0m_expand\u001b[0m\u001b[0;34m(\u001b[0m\u001b[0mother\u001b[0m\u001b[0;34m.\u001b[0m\u001b[0mdim\u001b[0m\u001b[0;34m,\u001b[0m \u001b[0mother\u001b[0m\u001b[0;34m.\u001b[0m\u001b[0mpmf\u001b[0m\u001b[0;34m.\u001b[0m\u001b[0mshape\u001b[0m\u001b[0;34m)\u001b[0m\u001b[0;34m\u001b[0m\u001b[0;34m\u001b[0m\u001b[0m\n\u001b[1;32m    174\u001b[0m         \u001b[0;32melif\u001b[0m \u001b[0mlen\u001b[0m\u001b[0;34m(\u001b[0m\u001b[0mself\u001b[0m\u001b[0;34m.\u001b[0m\u001b[0mdim\u001b[0m\u001b[0;34m)\u001b[0m \u001b[0;34m>\u001b[0m \u001b[0mlen\u001b[0m\u001b[0;34m(\u001b[0m\u001b[0mother\u001b[0m\u001b[0;34m.\u001b[0m\u001b[0mdim\u001b[0m\u001b[0;34m)\u001b[0m\u001b[0;34m:\u001b[0m\u001b[0;34m\u001b[0m\u001b[0;34m\u001b[0m\u001b[0m\n",
      "\u001b[0;31mAttributeError\u001b[0m: 'NoneType' object has no attribute 'dim'"
     ]
    }
   ],
   "source": [
    "self = a[0]\n",
    "tnode = a[1]\n",
    "\n",
    "if self.observed:\n",
    "    msg = self.init\n",
    "else:\n",
    "    # Initial message\n",
    "    msg = self.init\n",
    "\n",
    "    # Product over incoming messages\n",
    "    for n in self.neighbors(tnode):\n",
    "        msg += self.graph[n][self]['object'].get_message(n, self)\n",
    "\n",
    "msg.pmf"
   ]
  },
  {
   "cell_type": "code",
   "execution_count": 97,
   "metadata": {},
   "outputs": [
    {
     "data": {
      "text/plain": [
       "array([0.])"
      ]
     },
     "execution_count": 97,
     "metadata": {},
     "output_type": "execute_result"
    }
   ],
   "source": [
    "self.init.pmf"
   ]
  },
  {
   "cell_type": "code",
   "execution_count": 110,
   "metadata": {},
   "outputs": [],
   "source": [
    "n = list(self.neighbors(tnode))[0]"
   ]
  },
  {
   "cell_type": "code",
   "execution_count": 114,
   "metadata": {},
   "outputs": [
    {
     "data": {
      "text/plain": [
       "array([-24.44677742, -22.66631196])"
      ]
     },
     "execution_count": 114,
     "metadata": {},
     "output_type": "execute_result"
    }
   ],
   "source": [
    "self.graph[n][self]['object'].get_message(n, self).pmf"
   ]
  },
  {
   "cell_type": "code",
   "execution_count": 109,
   "metadata": {},
   "outputs": [
    {
     "data": {
      "text/plain": [
       "array([[[0.04 , 0.16 ],\n",
       "        [0.075, 0.225]],\n",
       "\n",
       "       [[0.14 , 0.06 ],\n",
       "        [0.09 , 0.21 ]]])"
      ]
     },
     "execution_count": 109,
     "metadata": {},
     "output_type": "execute_result"
    }
   ],
   "source": [
    "np.exp(list(self.neighbors(tnode))[0].factor.pmf)"
   ]
  },
  {
   "cell_type": "code",
   "execution_count": null,
   "metadata": {},
   "outputs": [],
   "source": []
  }
 ],
 "metadata": {
  "anaconda-cloud": {},
  "celltoolbar": "Raw Cell Format",
  "kernelspec": {
   "display_name": "Python 3",
   "language": "python",
   "name": "python3"
  },
  "language_info": {
   "codemirror_mode": {
    "name": "ipython",
    "version": 3
   },
   "file_extension": ".py",
   "mimetype": "text/x-python",
   "name": "python",
   "nbconvert_exporter": "python",
   "pygments_lexer": "ipython3",
   "version": "3.6.7"
  }
 },
 "nbformat": 4,
 "nbformat_minor": 1
}
