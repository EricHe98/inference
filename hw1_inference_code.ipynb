{
 "cells": [
  {
   "cell_type": "markdown",
   "metadata": {},
   "source": [
    "# Inference HW1 - Problem 4\n",
    "\n",
    "## Eric He / eh1885 / N16436011"
   ]
  },
  {
   "cell_type": "markdown",
   "metadata": {},
   "source": [
    "We'll be storing the data as a list of dicts.\n",
    "Each dict corresponds to an email. The dict has three keys.\n",
    "\n",
    "1. The `id` key represents the ID of the email.\n",
    "2. The `label` key represents whether the email is ham or spam.\n",
    "3. The `words` key links to a nested dict, where each key corresponds to a word in the email and the value the corresponding frequency of that word."
   ]
  },
  {
   "cell_type": "code",
   "execution_count": 1,
   "metadata": {},
   "outputs": [],
   "source": [
    "import pandas as pd\n",
    "import numpy as np"
   ]
  },
  {
   "cell_type": "code",
   "execution_count": 2,
   "metadata": {},
   "outputs": [],
   "source": [
    "with open('data/train', 'r') as handle:\n",
    "    raw_train = handle.readlines()\n",
    "with open('data/test', 'r') as handle:\n",
    "    raw_test = handle.readlines()"
   ]
  },
  {
   "cell_type": "code",
   "execution_count": 3,
   "metadata": {},
   "outputs": [],
   "source": [
    "# parse one email\n",
    "def read_row(l):\n",
    "    i = 2\n",
    "    l = l.split(' ')\n",
    "    a = dict()\n",
    "    a['id'] = l[0]\n",
    "    a['label'] = l[1]\n",
    "    a['words'] = dict()\n",
    "    # fill up words dictionary\n",
    "    while i < len(l):\n",
    "        a['words'][l[i]] = l[i + 1]\n",
    "        i = i+2\n",
    "    return a"
   ]
  },
  {
   "cell_type": "code",
   "execution_count": 4,
   "metadata": {},
   "outputs": [],
   "source": [
    "train = list()\n",
    "for l in raw_train:\n",
    "    train.append(read_row(l))\n",
    "test = list()\n",
    "for l in raw_test:\n",
    "    test.append(read_row(l))"
   ]
  },
  {
   "cell_type": "markdown",
   "metadata": {},
   "source": [
    "## b) What is $p(\\text{Spam})$?"
   ]
  },
  {
   "cell_type": "code",
   "execution_count": 5,
   "metadata": {},
   "outputs": [
    {
     "data": {
      "text/plain": [
       "spam    0.573667\n",
       "ham     0.426333\n",
       "dtype: float64"
      ]
     },
     "execution_count": 5,
     "metadata": {},
     "output_type": "execute_result"
    }
   ],
   "source": [
    "train_labels = [l['label'] for l in train]\n",
    "spam_rates = pd.Series(train_labels).value_counts() / pd.Series(train_labels).value_counts().sum()\n",
    "spam_rates"
   ]
  },
  {
   "cell_type": "markdown",
   "metadata": {},
   "source": [
    "## c) Compute a smoothed $P(w_i | \\text{Spam})$ and $P(w_i | \\text{Ham})$\n",
    "\n",
    "where the smoothing corresponds to $\\dfrac{n_c + mp}{n + m} = \\dfrac{n_c + 1}{n + m}$, with $n$ being number of spam (ham) words, $n_c$ being the number of spam (ham) instances of that word, and $m$ is the number of words."
   ]
  },
  {
   "cell_type": "code",
   "execution_count": 6,
   "metadata": {},
   "outputs": [],
   "source": [
    "word_bank = set([w for l in train for w in l['words']])\n",
    "word_dict_spam = {}\n",
    "word_dict_ham = {}\n",
    "\n",
    "spam_count = np.sum([int(l['words'].get(w)) for l in train if l['label'] == 'spam' for w in l['words']])\n",
    "ham_count = np.sum([int(l['words'].get(w)) for l in train if l['label'] != 'spam' for w in l['words']])\n",
    "vocabulary_count = np.sum([int(l['words'].get(w)) for l in train for w in l['words']])\n",
    "\n",
    "for w in word_bank:\n",
    "    word_dict_spam[w] = (np.sum([int(l['words'].get(w)) \\\n",
    "                                 for l in train if l['words'].get(w) and l['label'] == 'spam']) + 1.0)\\\n",
    "        / (spam_count + vocabulary_count)\n",
    "    word_dict_ham[w] = (np.sum([int(l['words'].get(w)) \\\n",
    "                                for l in train if l['words'].get(w) and l['label'] != 'spam']) + 1.0) \\\n",
    "        / (ham_count + vocabulary_count)"
   ]
  },
  {
   "cell_type": "markdown",
   "metadata": {},
   "source": [
    "### Top 5 spam words"
   ]
  },
  {
   "cell_type": "code",
   "execution_count": 7,
   "metadata": {
    "scrolled": true
   },
   "outputs": [
    {
     "data": {
      "text/plain": [
       "enron    0.012941\n",
       "a        0.008003\n",
       "corp     0.007365\n",
       "the      0.007259\n",
       "to       0.006670\n",
       "dtype: float64"
      ]
     },
     "execution_count": 7,
     "metadata": {},
     "output_type": "execute_result"
    }
   ],
   "source": [
    "spam_probabilities = pd.Series(word_dict_spam)\n",
    "spam_probabilities.sort_values(ascending=False)[:5]"
   ]
  },
  {
   "cell_type": "markdown",
   "metadata": {},
   "source": [
    "### Top 5 ham words"
   ]
  },
  {
   "cell_type": "code",
   "execution_count": 8,
   "metadata": {},
   "outputs": [
    {
     "data": {
      "text/plain": [
       "aaaaaaaaaaaaaaaaaaaaaaaaaaaaaaaaaaaaaaaaaaaaaaaaaaaaaaaaaaaaaaaaaaaaaaaaaaaa    0.014545\n",
       "enron                                                                           0.013929\n",
       "the                                                                             0.010885\n",
       "to                                                                              0.008312\n",
       "a                                                                               0.005821\n",
       "dtype: float64"
      ]
     },
     "execution_count": 8,
     "metadata": {},
     "output_type": "execute_result"
    }
   ],
   "source": [
    "ham_probabilities = pd.Series(word_dict_ham)\n",
    "ham_probabilities.sort_values(ascending=False)[:5]"
   ]
  },
  {
   "cell_type": "markdown",
   "metadata": {},
   "source": [
    "## d) Build a Naive Bayes model and predict on the test set\n",
    "\n",
    "We use a Naive Bayes model of completely binary features where we merely look at the presence of each distinct word in the email and ignore its frequency.\n",
    "\n",
    "For each email, this model will look at each **distinct** word, and add that word's log-probability of being spam to the spam score, and its log-probability of being ham to the ham score. Then, the model compares the spam score to the ham score; if the spam score is equal or higher, then the email is spam; otherwise, the email is ham."
   ]
  },
  {
   "cell_type": "code",
   "execution_count": 9,
   "metadata": {},
   "outputs": [
    {
     "data": {
      "text/plain": [
       "0.921"
      ]
     },
     "execution_count": 9,
     "metadata": {},
     "output_type": "execute_result"
    }
   ],
   "source": [
    "ham_lp = np.log(ham_probabilities)\n",
    "spam_lp = np.log(spam_probabilities)\n",
    "def NaiveBayes(l, ham_lp, spam_lp):\n",
    "    ham_score = ham_lp[l['words'].keys()].sum() + np.log(spam_rates[1])\n",
    "    spam_score = spam_lp[l['words'].keys()].sum() + np.log(spam_rates[0])\n",
    "    if spam_score >= ham_score:\n",
    "        return 'spam'\n",
    "    else:\n",
    "        return 'ham'\n",
    "pred = [NaiveBayes(l, ham_lp, spam_lp) for l in test]\n",
    "truth = [l['label'] for l in test]\n",
    "accuracy = np.sum([1 for i in range(len(pred)) if pred[i] == truth[i]]) / len(pred)\n",
    "accuracy"
   ]
  },
  {
   "cell_type": "markdown",
   "metadata": {},
   "source": [
    "## e) Vary the prior\n",
    "The accuracy starts dropping for higher values of $m$. This is because when we have a large $m$, our probabilities of a word corresponding to fraud or not fraud converge to the uniform distribution, meaning that we are less certain of whether or not the word corresponds to a fraudulent email. Since our initial model was good and not overfitting, this smoothing prior served to over-regularize our model and reduce the accuracy."
   ]
  },
  {
   "cell_type": "code",
   "execution_count": 10,
   "metadata": {},
   "outputs": [],
   "source": [
    "ms = 10.0**np.array(range(5))\n",
    "\n",
    "raw_occurrences_spam = {}\n",
    "raw_occurrences_ham = {}\n",
    "for w in word_bank:\n",
    "    raw_occurrences_spam[w] = np.sum([int(l['words'].get(w)) \\\n",
    "                                      for l in train if l['words'].get(w) and l['label'] == 'spam'])\n",
    "    raw_occurrences_ham[w] = np.sum([int(l['words'].get(w)) \\\n",
    "                                     for l in train if l['words'].get(w) and l['label'] != 'spam'])\n",
    "\n",
    "accuracies = []\n",
    "for m in ms:\n",
    "    spam_lp = np.log(pd.Series(raw_occurrences_spam) + float(m)) \\\n",
    "        - np.log(spam_count + m * float(vocabulary_count))\n",
    "    ham_lp = np.log(pd.Series(raw_occurrences_ham) + float(m)) \\\n",
    "        - np.log(ham_count + m * float(vocabulary_count))\n",
    "    pred = [NaiveBayes(l, ham_lp, spam_lp) for l in test]\n",
    "    accuracy = np.sum([1 for i in range(len(pred)) if pred[i] == truth[i]]) / len(pred)\n",
    "    accuracies.append(accuracy)"
   ]
  },
  {
   "cell_type": "code",
   "execution_count": 11,
   "metadata": {},
   "outputs": [
    {
     "data": {
      "image/png": "[encoded data removed]",
      "text/plain": [
       "<Figure size 432x288 with 1 Axes>"
      ]
     },
     "metadata": {},
     "output_type": "display_data"
    }
   ],
   "source": [
    "import matplotlib.pyplot as plt\n",
    "import seaborn as sns\n",
    "%matplotlib inline\n",
    "sns.set_style('whitegrid')\n",
    "plt.plot(ms, accuracies, '.')\n",
    "plt.xscale('log')"
   ]
  },
  {
   "cell_type": "markdown",
   "metadata": {},
   "source": [
    "## f) How would you game this model?\n",
    "I would find every single word with a higher ham log-probability than spam log-probability and have a large number of them pasted into each of my spam emails in white text to ensure extremely low predicted probability of spam."
   ]
  }
 ],
 "metadata": {
  "kernelspec": {
   "display_name": "Python 3",
   "language": "python",
   "name": "python3"
  },
  "language_info": {
   "codemirror_mode": {
    "name": "ipython",
    "version": 3
   },
   "file_extension": ".py",
   "mimetype": "text/x-python",
   "name": "python",
   "nbconvert_exporter": "python",
   "pygments_lexer": "ipython3",
   "version": "3.7.4"
  }
 },
 "nbformat": 4,
 "nbformat_minor": 2
}
