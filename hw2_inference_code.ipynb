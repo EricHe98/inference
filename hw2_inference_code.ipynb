{
 "cells": [
  {
   "cell_type": "markdown",
   "metadata": {},
   "source": [
    "# Inference\n",
    "\n",
    "## Eric He\n",
    "\n",
    "## Homework 2 - Problem 5\n",
    "\n",
    "In problem 5, we are asked to provide code to build a Hidden Markov Model and train it on the sequence in `sequence.txt`.\n",
    "\n",
    "We can find the parameters of the Hidden Markov Model using the Baum-Welch algorithm, an expectation-maximization style algorithm that works as follows:\n",
    "\n",
    "# Baum-Welch algorithm\n",
    "\n",
    "## Expectation: Given model parameters, compute the probability of the data\n",
    "\n",
    "This probability, when instead viewed as a function of the model parameters, is the likelihood function. \n",
    "\n",
    "## Maximization: Given the likelihood function "
   ]
  },
  {
   "cell_type": "markdown",
   "metadata": {},
   "source": [
    "# Import necessary packages and read in sequence.txt\n",
    "\n",
    "I've changed `sequence.txt` into a Python file and imported that instead."
   ]
  },
  {
   "cell_type": "code",
   "execution_count": 1,
   "metadata": {},
   "outputs": [],
   "source": [
    "import numpy as np\n",
    "import pandas as pd\n",
    "\n",
    "import matplotlib.pyplot as plt\n",
    "import seaborn as sns\n",
    "\n",
    "%matplotlib inline\n",
    "sns.set_style('whitegrid')\n",
    "\n",
    "import sequence\n",
    "s = sequence.sequence"
   ]
  },
  {
   "cell_type": "markdown",
   "metadata": {},
   "source": [
    "# "
   ]
  },
  {
   "cell_type": "code",
   "execution_count": 16,
   "metadata": {},
   "outputs": [],
   "source": [
    "N = 2\n",
    "A = np.random.rand(N, N)"
   ]
  },
  {
   "cell_type": "code",
   "execution_count": 19,
   "metadata": {},
   "outputs": [
    {
     "data": {
      "text/plain": [
       "array([[0.9996077 , 0.67353356],\n",
       "       [0.16476904, 0.88172843]])"
      ]
     },
     "execution_count": 19,
     "metadata": {},
     "output_type": "execute_result"
    }
   ],
   "source": [
    "A "
   ]
  },
  {
   "cell_type": "code",
   "execution_count": 37,
   "metadata": {},
   "outputs": [
    {
     "data": {
      "text/plain": [
       "array([[0.9996077 , 0.16476904],\n",
       "       [0.67353356, 0.88172843]])"
      ]
     },
     "execution_count": 37,
     "metadata": {},
     "output_type": "execute_result"
    }
   ],
   "source": [
    "A.transpose()"
   ]
  },
  {
   "cell_type": "code",
   "execution_count": 24,
   "metadata": {},
   "outputs": [
    {
     "data": {
      "text/plain": [
       "array([1.67314126, 1.04649747])"
      ]
     },
     "execution_count": 24,
     "metadata": {},
     "output_type": "execute_result"
    }
   ],
   "source": [
    "A.sum(axis=1)"
   ]
  },
  {
   "cell_type": "code",
   "execution_count": 50,
   "metadata": {},
   "outputs": [
    {
     "data": {
      "text/plain": [
       "array([0.11484408, 0.22066467])"
      ]
     },
     "execution_count": 50,
     "metadata": {},
     "output_type": "execute_result"
    }
   ],
   "source": [
    "P = np.array([0.5, 0.5])\n",
    "B = np.random.rand(2, 5)\n",
    "Y = [y-1 for y in s]\n",
    "P * B[:,Y[0]]"
   ]
  },
  {
   "cell_type": "code",
   "execution_count": 52,
   "metadata": {},
   "outputs": [
    {
     "data": {
      "text/plain": [
       "array([0.5, 0.5])"
      ]
     },
     "execution_count": 52,
     "metadata": {},
     "output_type": "execute_result"
    }
   ],
   "source": [
    "P"
   ]
  },
  {
   "cell_type": "code",
   "execution_count": 53,
   "metadata": {},
   "outputs": [
    {
     "data": {
      "text/plain": [
       "array([0.22968817, 0.44132933])"
      ]
     },
     "execution_count": 53,
     "metadata": {},
     "output_type": "execute_result"
    }
   ],
   "source": [
    "B[:, Y[0]]"
   ]
  },
  {
   "cell_type": "code",
   "execution_count": 54,
   "metadata": {},
   "outputs": [
    {
     "data": {
      "text/plain": [
       "array([[0.36482084, 0.9357858 , 0.84127471, 0.22968817, 0.59340239],\n",
       "       [0.06158862, 0.75407686, 0.28255176, 0.44132933, 0.76552895]])"
      ]
     },
     "execution_count": 54,
     "metadata": {},
     "output_type": "execute_result"
    }
   ],
   "source": [
    "B"
   ]
  },
  {
   "cell_type": "code",
   "execution_count": 57,
   "metadata": {},
   "outputs": [
    {
     "name": "stdout",
     "output_type": "stream",
     "text": [
      "1\n",
      "2\n"
     ]
    }
   ],
   "source": [
    "for i in range(1, 3):\n",
    "    print(i)"
   ]
  },
  {
   "cell_type": "code",
   "execution_count": 400,
   "metadata": {},
   "outputs": [],
   "source": [
    "class HMM():\n",
    "    def __init__(self, N, Y):\n",
    "        # N is the number of hidden nodes\n",
    "        self.N = N\n",
    "        self.i = None\n",
    "        if Y is not None:\n",
    "            ### initialize params ###\n",
    "            # store the data; map the input to easy 0-based index\n",
    "            self.Y = [y - 1 for y in Y]\n",
    "            # T is the number of observations\n",
    "            self.T = len(Y)\n",
    "            # K is the number of observable states\n",
    "            self.K = len(set(self.Y))\n",
    "            # A is the matrix of hidden state transition probabilities\n",
    "            # random initialization\n",
    "            self.A = np.random.rand(self.N, self.N)\n",
    "            self.A = (self.A.transpose() / self.A.sum(axis=1)).transpose()\n",
    "            # B is the estimated probabilities for each observable state given a hidden state\n",
    "            # random initialization\n",
    "            self.B = np.random.rand(self.N, self.K)\n",
    "            self.B = (self.B.transpose() / self.B.sum(axis=1)).transpose()\n",
    "            # P is the initial probability of the hidden states\n",
    "            # uniform initialization\n",
    "            self.P = np.ones(self.N) / N\n",
    "\n",
    "            self.previous_A = self.A.copy()\n",
    "            self.previous_B = self.B.copy()\n",
    "        else:\n",
    "            self.Y = None\n",
    "    \n",
    "    def fit(self, Y, max_iter=10):\n",
    "        ### initialize params ###\n",
    "        # store the data; map the input to easy 0-based index\n",
    "        self.Y = [y - 1 for y in Y]\n",
    "        # T is the number of observations\n",
    "        self.T = len(Y)\n",
    "        # K is the number of observable states\n",
    "        self.K = len(set(self.Y))\n",
    "        # A is the matrix of hidden state transition probabilities\n",
    "        # random initialization\n",
    "        self.A = np.random.rand(self.N, self.N)\n",
    "        self.A = (self.A.transpose() / self.A.sum(axis=1)).transpose()\n",
    "        # B is the estimated probabilities for each observable state given a hidden state\n",
    "        # random initialization\n",
    "        self.B = np.random.rand(self.N, self.K)\n",
    "        self.B = (self.B.transpose() / self.B.sum(axis=1)).transpose()\n",
    "        # P is the initial probability of the hidden states\n",
    "        # uniform initialization\n",
    "        self.P = np.ones(self.N) / N\n",
    "        \n",
    "        self.previous_A = self.A.copy()\n",
    "        self.previous_B = self.B.copy()\n",
    "        \n",
    "        # expectation maximization loop\n",
    "        while self.convergence_check(max_iter=max_iter):\n",
    "            alphas, betas = self.expectation()\n",
    "            self.maximization(alphas, betas)\n",
    "    \n",
    "    def forward(self):\n",
    "        \"\"\"Computes alphas, the probability of seeing observations y1...yt and having state i at time t\"\"\"\n",
    "        alphas = np.zeros([self.N, self.T])\n",
    "        for n in range(self.N):\n",
    "            alphas[:, 0] = self.P * self.B[:,self.Y[0]]\n",
    "        alphas[:, 0] = alphas[:, 0] / alphas[:, 0].sum()\n",
    "            \n",
    "        for t in range(1, self.T):\n",
    "            alphas[:, t] = self.B[:,self.Y[t]] * (alphas[:,t-1] @ self.A)\n",
    "            alphas[:, t] = alphas[:, t] / alphas[:, t].sum()\n",
    "            \n",
    "        return alphas\n",
    "\n",
    "    def backward2(self):\n",
    "        betas = np.ones([self.N, self.T]) / 2\n",
    "        \n",
    "        for t in reversed(range(self.T - 1)):\n",
    "            for n in range(self.N):\n",
    "                betas[n, t] = np.sum(betas[:,t+1] * self.A[n,:] * self.B[n, Y[t+1]])\n",
    "            betas[:, t] = betas[:, t] / betas[:, t].sum()\n",
    "            \n",
    "        return betas\n",
    "    \n",
    "    def backward(self):\n",
    "        betas = np.ones([self.N, self.T]) / 2\n",
    "        \n",
    "        for t in reversed(range(self.T - 1)):\n",
    "            betas[:, t] = self.A @ (self.B[:,self.Y[t+1]] * betas[:,t+1])\n",
    "            betas[:, t] = betas[:, t] / betas[:, t].sum()\n",
    "            \n",
    "        return betas\n",
    "    \n",
    "    # check \n",
    "    def convergence_check(self, max_iter=10):\n",
    "        if self.i is None:\n",
    "            self.i = 1\n",
    "            return True\n",
    "        if self.i > max_iter:\n",
    "            return False\n",
    "        else:\n",
    "            self.i += 1\n",
    "            log_likelihood = np.sum(np.log(gammas.T @ self.B))\n",
    "            print('Log-likelihood is {}'.format(np.log(hmm.gammas.T @ hmm.B).sum()))\n",
    "            print('Difference in A: {}'.format(np.abs(self.previous_A - self.A).sum()))\n",
    "            print('Difference in B: {}'.format(np.abs(self.previous_B - self.B).sum()))\n",
    "            print('\\n')\n",
    "            self.previous_A = self.A\n",
    "            self.previous_B = self.B\n",
    "            \n",
    "            return True\n",
    "    \n",
    "    def expectation(self):\n",
    "        alphas = self.forward()\n",
    "        betas = self.backward()\n",
    "        return alphas, betas\n",
    "    \n",
    "    def maximization(self, alphas, betas):\n",
    "        gammas = alphas * betas\n",
    "        gammas = gammas / gammas.sum(axis=0)\n",
    "        \n",
    "        xis = np.zeros([self.N, self.N, self.T])\n",
    "        for t in range(self.T - 1):\n",
    "            for i in range(self.N):\n",
    "                for j in range(self.N):\n",
    "                    xis[i, j, t] = alphas[i, t] * self.A[i,j] * self.B[j,self.Y[t+1]]\n",
    "                    # there should be a normalization here\n",
    "            xis[:,:,t] = (xis[:,:,0].T / xis[:,:,0].sum()).T            \n",
    "            \n",
    "        self.P = gammas[:,0]\n",
    "        \n",
    "        self.A = xis[:,:,:self.T-1].sum(axis=2) / gammas[:,:self.T-1].sum(axis=1)\n",
    "        self.A = (self.A.transpose() / self.A.sum(axis=1)).transpose() # QUESTIONABLE AND SHOULDNT BE NEEDED\n",
    "        \n",
    "        self.xis = xis\n",
    "        self.gammas = gammas\n",
    "        \n",
    "        hidden_and_observed = pd.DataFrame(gammas.T)\n",
    "        hidden_and_observed['Y'] = self.Y\n",
    "        empirical_observed = hidden_and_observed.groupby('Y').sum()\n",
    "        self.B = (empirical_observed.T / empirical_observed.sum(axis=1).T).values"
   ]
  },
  {
   "cell_type": "code",
   "execution_count": 402,
   "metadata": {},
   "outputs": [
    {
     "name": "stdout",
     "output_type": "stream",
     "text": [
      "Log-likelihood is -21204.40821963038\n",
      "Difference in A: 1.3106934725884325\n",
      "Difference in B: 4.08670835181781\n",
      "\n",
      "\n",
      "Log-likelihood is -10180.253276069128\n",
      "Difference in A: 0.6923642526968634\n",
      "Difference in B: 3.6335644953906643\n",
      "\n",
      "\n",
      "Log-likelihood is -7144.675120207471\n",
      "Difference in A: 0.06453008418343098\n",
      "Difference in B: 1.0358769378319066\n",
      "\n",
      "\n",
      "Log-likelihood is -5474.396686365913\n",
      "Difference in A: 0.3389493352069977\n",
      "Difference in B: 0.7576209798664649\n",
      "\n",
      "\n",
      "Log-likelihood is -5855.464413507135\n",
      "Difference in A: 0.6107506480652101\n",
      "Difference in B: 0.686915394500848\n",
      "\n",
      "\n",
      "Log-likelihood is -9497.081100134816\n",
      "Difference in A: 0.11516148780173824\n",
      "Difference in B: 1.3024467494378411\n",
      "\n",
      "\n",
      "Log-likelihood is -12593.170780864228\n",
      "Difference in A: 1.781576742327836\n",
      "Difference in B: 1.7093360867021414\n",
      "\n",
      "\n",
      "Log-likelihood is -2273.981516486681\n",
      "Difference in A: 0.7635985721288225\n",
      "Difference in B: 2.2423789178846554\n",
      "\n",
      "\n",
      "Log-likelihood is -1358.6742851618492\n",
      "Difference in A: 0.09668874742306646\n",
      "Difference in B: 0.2535919622083581\n",
      "\n",
      "\n",
      "Log-likelihood is -955.5126489838244\n",
      "Difference in A: 0.3427113437466812\n",
      "Difference in B: 0.15316257989109913\n",
      "\n",
      "\n"
     ]
    }
   ],
   "source": [
    "hmm = HMM(2,Y)\n",
    "hmm.fit(Y)"
   ]
  },
  {
   "cell_type": "code",
   "execution_count": 390,
   "metadata": {},
   "outputs": [
    {
     "data": {
      "text/plain": [
       "(2, 3)"
      ]
     },
     "execution_count": 390,
     "metadata": {},
     "output_type": "execute_result"
    }
   ],
   "source": [
    "hmm.B.shape"
   ]
  },
  {
   "cell_type": "code",
   "execution_count": 399,
   "metadata": {},
   "outputs": [
    {
     "ename": "NameError",
     "evalue": "name 'self' is not defined",
     "output_type": "error",
     "traceback": [
      "\u001b[1;31m---------------------------------------------------------------------------\u001b[0m",
      "\u001b[1;31mNameError\u001b[0m                                 Traceback (most recent call last)",
      "\u001b[1;32m<ipython-input-399-7fc0f3b4e819>\u001b[0m in \u001b[0;36m<module>\u001b[1;34m\u001b[0m\n\u001b[0;32m      5\u001b[0m \u001b[1;33m\u001b[0m\u001b[0m\n\u001b[0;32m      6\u001b[0m \u001b[1;32mfor\u001b[0m \u001b[0mt\u001b[0m \u001b[1;32min\u001b[0m \u001b[0mrange\u001b[0m\u001b[1;33m(\u001b[0m\u001b[1;36m1\u001b[0m\u001b[1;33m,\u001b[0m \u001b[0mhmm\u001b[0m\u001b[1;33m.\u001b[0m\u001b[0mT\u001b[0m\u001b[1;33m)\u001b[0m\u001b[1;33m:\u001b[0m\u001b[1;33m\u001b[0m\u001b[1;33m\u001b[0m\u001b[0m\n\u001b[1;32m----> 7\u001b[1;33m     \u001b[0malphas\u001b[0m\u001b[1;33m[\u001b[0m\u001b[1;33m:\u001b[0m\u001b[1;33m,\u001b[0m \u001b[0mt\u001b[0m\u001b[1;33m]\u001b[0m \u001b[1;33m=\u001b[0m \u001b[0mhmm\u001b[0m\u001b[1;33m.\u001b[0m\u001b[0mB\u001b[0m\u001b[1;33m[\u001b[0m\u001b[1;33m:\u001b[0m\u001b[1;33m,\u001b[0m\u001b[0mself\u001b[0m\u001b[1;33m.\u001b[0m\u001b[0mY\u001b[0m\u001b[1;33m[\u001b[0m\u001b[0mt\u001b[0m\u001b[1;33m]\u001b[0m\u001b[1;33m]\u001b[0m \u001b[1;33m*\u001b[0m \u001b[1;33m(\u001b[0m\u001b[0malphas\u001b[0m\u001b[1;33m[\u001b[0m\u001b[1;33m:\u001b[0m\u001b[1;33m,\u001b[0m\u001b[0mt\u001b[0m\u001b[1;33m-\u001b[0m\u001b[1;36m1\u001b[0m\u001b[1;33m]\u001b[0m \u001b[1;33m@\u001b[0m \u001b[0mhmm\u001b[0m\u001b[1;33m.\u001b[0m\u001b[0mA\u001b[0m\u001b[1;33m)\u001b[0m\u001b[1;33m\u001b[0m\u001b[1;33m\u001b[0m\u001b[0m\n\u001b[0m\u001b[0;32m      8\u001b[0m     \u001b[0malphas\u001b[0m\u001b[1;33m[\u001b[0m\u001b[1;33m:\u001b[0m\u001b[1;33m,\u001b[0m \u001b[0mt\u001b[0m\u001b[1;33m]\u001b[0m \u001b[1;33m=\u001b[0m \u001b[0malphas\u001b[0m\u001b[1;33m[\u001b[0m\u001b[1;33m:\u001b[0m\u001b[1;33m,\u001b[0m \u001b[0mt\u001b[0m\u001b[1;33m]\u001b[0m \u001b[1;33m/\u001b[0m \u001b[0malphas\u001b[0m\u001b[1;33m[\u001b[0m\u001b[1;33m:\u001b[0m\u001b[1;33m,\u001b[0m \u001b[0mt\u001b[0m\u001b[1;33m]\u001b[0m\u001b[1;33m.\u001b[0m\u001b[0msum\u001b[0m\u001b[1;33m(\u001b[0m\u001b[1;33m)\u001b[0m\u001b[1;33m\u001b[0m\u001b[1;33m\u001b[0m\u001b[0m\n",
      "\u001b[1;31mNameError\u001b[0m: name 'self' is not defined"
     ]
    }
   ],
   "source": [
    "alphas = np.zeros([hmm.N, hmm.T])\n",
    "for n in range(hmm.N):\n",
    "    alphas[:, 0] = hmm.P * hmm.B[:,hmm.Y[0]]\n",
    "alphas[:, 0] = alphas[:, 0] / alphas[:, 0].sum()\n",
    "\n",
    "for t in range(1, hmm.T):\n",
    "    alphas[:, t] = hmm.B[:,self.Y[t]] * (alphas[:,t-1] @ hmm.A)\n",
    "    alphas[:, t] = alphas[:, t] / alphas[:, t].sum()"
   ]
  },
  {
   "cell_type": "code",
   "execution_count": 397,
   "metadata": {},
   "outputs": [
    {
     "ename": "IndexError",
     "evalue": "index 3 is out of bounds for axis 1 with size 3",
     "output_type": "error",
     "traceback": [
      "\u001b[1;31m---------------------------------------------------------------------------\u001b[0m",
      "\u001b[1;31mIndexError\u001b[0m                                Traceback (most recent call last)",
      "\u001b[1;32m<ipython-input-397-def2af1474ff>\u001b[0m in \u001b[0;36m<module>\u001b[1;34m\u001b[0m\n\u001b[1;32m----> 1\u001b[1;33m \u001b[0mhmm\u001b[0m\u001b[1;33m.\u001b[0m\u001b[0mB\u001b[0m\u001b[1;33m[\u001b[0m\u001b[1;33m:\u001b[0m\u001b[1;33m,\u001b[0m\u001b[0mY\u001b[0m\u001b[1;33m[\u001b[0m\u001b[0mt\u001b[0m\u001b[1;33m]\u001b[0m\u001b[1;33m]\u001b[0m\u001b[1;33m\u001b[0m\u001b[1;33m\u001b[0m\u001b[0m\n\u001b[0m",
      "\u001b[1;31mIndexError\u001b[0m: index 3 is out of bounds for axis 1 with size 3"
     ]
    }
   ],
   "source": [
    "hmm.B[:,Y[t]]"
   ]
  },
  {
   "cell_type": "code",
   "execution_count": 398,
   "metadata": {},
   "outputs": [
    {
     "data": {
      "text/plain": [
       "3"
      ]
     },
     "execution_count": 398,
     "metadata": {},
     "output_type": "execute_result"
    }
   ],
   "source": [
    "Y[t]"
   ]
  },
  {
   "cell_type": "markdown",
   "metadata": {},
   "source": []
  },
  {
   "cell_type": "code",
   "execution_count": 404,
   "metadata": {
    "scrolled": true
   },
   "outputs": [
    {
     "data": {
      "text/html": [
       "<div>\n",
       "<style scoped>\n",
       "    .dataframe tbody tr th:only-of-type {\n",
       "        vertical-align: middle;\n",
       "    }\n",
       "\n",
       "    .dataframe tbody tr th {\n",
       "        vertical-align: top;\n",
       "    }\n",
       "\n",
       "    .dataframe thead th {\n",
       "        text-align: right;\n",
       "    }\n",
       "</style>\n",
       "<table border=\"1\" class=\"dataframe\">\n",
       "  <thead>\n",
       "    <tr style=\"text-align: right;\">\n",
       "      <th></th>\n",
       "      <th>0</th>\n",
       "      <th>1</th>\n",
       "      <th>2</th>\n",
       "      <th>3</th>\n",
       "      <th>4</th>\n",
       "      <th>5</th>\n",
       "      <th>6</th>\n",
       "      <th>7</th>\n",
       "      <th>8</th>\n",
       "    </tr>\n",
       "  </thead>\n",
       "  <tbody>\n",
       "    <tr>\n",
       "      <th>0</th>\n",
       "      <td>0.875</td>\n",
       "      <td>0.963768</td>\n",
       "      <td>0.46886</td>\n",
       "      <td>0.114775</td>\n",
       "      <td>0.200381</td>\n",
       "      <td>0.266963</td>\n",
       "      <td>0.766093</td>\n",
       "      <td>0.25631</td>\n",
       "      <td>0.759137</td>\n",
       "    </tr>\n",
       "    <tr>\n",
       "      <th>1</th>\n",
       "      <td>0.125</td>\n",
       "      <td>0.036232</td>\n",
       "      <td>0.53114</td>\n",
       "      <td>0.885225</td>\n",
       "      <td>0.799619</td>\n",
       "      <td>0.733037</td>\n",
       "      <td>0.233907</td>\n",
       "      <td>0.74369</td>\n",
       "      <td>0.240863</td>\n",
       "    </tr>\n",
       "  </tbody>\n",
       "</table>\n",
       "</div>"
      ],
      "text/plain": [
       "       0         1        2         3         4         5         6        7  \\\n",
       "0  0.875  0.963768  0.46886  0.114775  0.200381  0.266963  0.766093  0.25631   \n",
       "1  0.125  0.036232  0.53114  0.885225  0.799619  0.733037  0.233907  0.74369   \n",
       "\n",
       "          8  \n",
       "0  0.759137  \n",
       "1  0.240863  "
      ]
     },
     "execution_count": 404,
     "metadata": {},
     "output_type": "execute_result"
    }
   ],
   "source": [
    "hmm = HMM(2, Y = [3,3,1,1,2,2,3,1,3])\n",
    "hmm.A = transition\n",
    "hmm.B = emission\n",
    "hmm.P = [0.5, 0.5]\n",
    "\n",
    "pd.DataFrame(hmm.forward())"
   ]
  },
  {
   "cell_type": "code",
   "execution_count": 405,
   "metadata": {},
   "outputs": [
    {
     "data": {
      "text/html": [
       "<div>\n",
       "<style scoped>\n",
       "    .dataframe tbody tr th:only-of-type {\n",
       "        vertical-align: middle;\n",
       "    }\n",
       "\n",
       "    .dataframe tbody tr th {\n",
       "        vertical-align: top;\n",
       "    }\n",
       "\n",
       "    .dataframe thead th {\n",
       "        text-align: right;\n",
       "    }\n",
       "</style>\n",
       "<table border=\"1\" class=\"dataframe\">\n",
       "  <thead>\n",
       "    <tr style=\"text-align: right;\">\n",
       "      <th></th>\n",
       "      <th>0</th>\n",
       "      <th>1</th>\n",
       "      <th>2</th>\n",
       "      <th>3</th>\n",
       "      <th>4</th>\n",
       "      <th>5</th>\n",
       "      <th>6</th>\n",
       "      <th>7</th>\n",
       "      <th>8</th>\n",
       "    </tr>\n",
       "  </thead>\n",
       "  <tbody>\n",
       "    <tr>\n",
       "      <th>0</th>\n",
       "      <td>0.541986</td>\n",
       "      <td>0.150698</td>\n",
       "      <td>0.272933</td>\n",
       "      <td>0.647765</td>\n",
       "      <td>0.689984</td>\n",
       "      <td>0.744265</td>\n",
       "      <td>0.384774</td>\n",
       "      <td>0.791667</td>\n",
       "      <td>0.5</td>\n",
       "    </tr>\n",
       "    <tr>\n",
       "      <th>1</th>\n",
       "      <td>0.458014</td>\n",
       "      <td>0.849302</td>\n",
       "      <td>0.727067</td>\n",
       "      <td>0.352235</td>\n",
       "      <td>0.310016</td>\n",
       "      <td>0.255735</td>\n",
       "      <td>0.615226</td>\n",
       "      <td>0.208333</td>\n",
       "      <td>0.5</td>\n",
       "    </tr>\n",
       "  </tbody>\n",
       "</table>\n",
       "</div>"
      ],
      "text/plain": [
       "          0         1         2         3         4         5         6  \\\n",
       "0  0.541986  0.150698  0.272933  0.647765  0.689984  0.744265  0.384774   \n",
       "1  0.458014  0.849302  0.727067  0.352235  0.310016  0.255735  0.615226   \n",
       "\n",
       "          7    8  \n",
       "0  0.791667  0.5  \n",
       "1  0.208333  0.5  "
      ]
     },
     "execution_count": 405,
     "metadata": {},
     "output_type": "execute_result"
    }
   ],
   "source": [
    "pd.DataFrame(hmm.backward())"
   ]
  },
  {
   "cell_type": "code",
   "execution_count": 417,
   "metadata": {},
   "outputs": [
    {
     "data": {
      "text/html": [
       "<div>\n",
       "<style scoped>\n",
       "    .dataframe tbody tr th:only-of-type {\n",
       "        vertical-align: middle;\n",
       "    }\n",
       "\n",
       "    .dataframe tbody tr th {\n",
       "        vertical-align: top;\n",
       "    }\n",
       "\n",
       "    .dataframe thead th {\n",
       "        text-align: right;\n",
       "    }\n",
       "</style>\n",
       "<table border=\"1\" class=\"dataframe\">\n",
       "  <thead>\n",
       "    <tr style=\"text-align: right;\">\n",
       "      <th></th>\n",
       "      <th>0</th>\n",
       "      <th>1</th>\n",
       "      <th>2</th>\n",
       "      <th>3</th>\n",
       "      <th>4</th>\n",
       "      <th>5</th>\n",
       "      <th>6</th>\n",
       "      <th>7</th>\n",
       "      <th>8</th>\n",
       "    </tr>\n",
       "  </thead>\n",
       "  <tbody>\n",
       "    <tr>\n",
       "      <th>0</th>\n",
       "      <td>0.875</td>\n",
       "      <td>0.963768</td>\n",
       "      <td>0.46886</td>\n",
       "      <td>0.114775</td>\n",
       "      <td>0.200381</td>\n",
       "      <td>0.266963</td>\n",
       "      <td>0.766093</td>\n",
       "      <td>0.25631</td>\n",
       "      <td>0.759137</td>\n",
       "    </tr>\n",
       "    <tr>\n",
       "      <th>1</th>\n",
       "      <td>0.125</td>\n",
       "      <td>0.036232</td>\n",
       "      <td>0.53114</td>\n",
       "      <td>0.885225</td>\n",
       "      <td>0.799619</td>\n",
       "      <td>0.733037</td>\n",
       "      <td>0.233907</td>\n",
       "      <td>0.74369</td>\n",
       "      <td>0.240863</td>\n",
       "    </tr>\n",
       "  </tbody>\n",
       "</table>\n",
       "</div>"
      ],
      "text/plain": [
       "       0         1        2         3         4         5         6        7  \\\n",
       "0  0.875  0.963768  0.46886  0.114775  0.200381  0.266963  0.766093  0.25631   \n",
       "1  0.125  0.036232  0.53114  0.885225  0.799619  0.733037  0.233907  0.74369   \n",
       "\n",
       "          8  \n",
       "0  0.759137  \n",
       "1  0.240863  "
      ]
     },
     "execution_count": 417,
     "metadata": {},
     "output_type": "execute_result"
    }
   ],
   "source": [
    "_ = forward_probs()\n",
    "pd.DataFrame(_[0] / _[0].sum(axis=0))"
   ]
  },
  {
   "cell_type": "code",
   "execution_count": 416,
   "metadata": {},
   "outputs": [
    {
     "data": {
      "text/html": [
       "<div>\n",
       "<style scoped>\n",
       "    .dataframe tbody tr th:only-of-type {\n",
       "        vertical-align: middle;\n",
       "    }\n",
       "\n",
       "    .dataframe tbody tr th {\n",
       "        vertical-align: top;\n",
       "    }\n",
       "\n",
       "    .dataframe thead th {\n",
       "        text-align: right;\n",
       "    }\n",
       "</style>\n",
       "<table border=\"1\" class=\"dataframe\">\n",
       "  <thead>\n",
       "    <tr style=\"text-align: right;\">\n",
       "      <th></th>\n",
       "      <th>0</th>\n",
       "      <th>1</th>\n",
       "      <th>2</th>\n",
       "      <th>3</th>\n",
       "      <th>4</th>\n",
       "      <th>5</th>\n",
       "      <th>6</th>\n",
       "      <th>7</th>\n",
       "      <th>8</th>\n",
       "    </tr>\n",
       "  </thead>\n",
       "  <tbody>\n",
       "    <tr>\n",
       "      <th>0</th>\n",
       "      <td>0.541986</td>\n",
       "      <td>0.150698</td>\n",
       "      <td>0.272933</td>\n",
       "      <td>0.647765</td>\n",
       "      <td>0.689984</td>\n",
       "      <td>0.744265</td>\n",
       "      <td>0.384774</td>\n",
       "      <td>0.791667</td>\n",
       "      <td>0.5</td>\n",
       "    </tr>\n",
       "    <tr>\n",
       "      <th>1</th>\n",
       "      <td>0.458014</td>\n",
       "      <td>0.849302</td>\n",
       "      <td>0.727067</td>\n",
       "      <td>0.352235</td>\n",
       "      <td>0.310016</td>\n",
       "      <td>0.255735</td>\n",
       "      <td>0.615226</td>\n",
       "      <td>0.208333</td>\n",
       "      <td>0.5</td>\n",
       "    </tr>\n",
       "  </tbody>\n",
       "</table>\n",
       "</div>"
      ],
      "text/plain": [
       "          0         1         2         3         4         5         6  \\\n",
       "0  0.541986  0.150698  0.272933  0.647765  0.689984  0.744265  0.384774   \n",
       "1  0.458014  0.849302  0.727067  0.352235  0.310016  0.255735  0.615226   \n",
       "\n",
       "          7    8  \n",
       "0  0.791667  0.5  \n",
       "1  0.208333  0.5  "
      ]
     },
     "execution_count": 416,
     "metadata": {},
     "output_type": "execute_result"
    }
   ],
   "source": [
    "__ = backward_probs()\n",
    "pd.DataFrame(__[0] / __[0].sum(axis=0))"
   ]
  },
  {
   "cell_type": "markdown",
   "metadata": {},
   "source": [
    "# Implementation below is swiped from https://github.com/hamzarawal/HMM-Baum-Welch-Algorithm/blob/master/baum-welch.py"
   ]
  },
  {
   "cell_type": "code",
   "execution_count": 377,
   "metadata": {},
   "outputs": [],
   "source": [
    "#generating initial probabilities\n",
    "\n",
    "#transition probabilities\n",
    "transition = np.array([[0.8,0.1],\n",
    "                       [0.1,0.8]])\n",
    "#Emission probabilities\n",
    "emission = np.array([[0.1,0.2,0.7],\n",
    "                     [0.7,0.2,0.1]])\n",
    "\n",
    "#defining states and sequence symbols\n",
    "states = ['H','C']\n",
    "states_dic = {'H':0, 'C':1}\n",
    "sequence_syms = {'1':0,'2':1,'3':2}\n",
    "sequence = ['1','2','3']\n",
    "\n",
    "#test sequence\n",
    "test_sequence = '331122313'\n",
    "test_sequence = [x for x in test_sequence]\n",
    "\n",
    "#probabilities of going to end state\n",
    "end_probs = [0.1, 0.1]\n",
    "#probabilities of going from start state\n",
    "start_probs = [0.5, 0.5]\n",
    "\n",
    "#function to find forward probabilities\n",
    "def forward_probs():\n",
    "    # node values stored during forward algorithm\n",
    "    node_values_fwd = np.zeros((len(states), len(test_sequence)))\n",
    "\n",
    "    for i, sequence_val in enumerate(test_sequence):\n",
    "        for j in range(len(states)):\n",
    "            # if first sequence value then do this\n",
    "            if (i == 0):\n",
    "                node_values_fwd[j, i] = start_probs[j] * emission[j, sequence_syms[sequence_val]]\n",
    "            # else perform this\n",
    "            else:\n",
    "                values = [node_values_fwd[k, i - 1] * emission[j, sequence_syms[sequence_val]] * transition[k, j] for k in\n",
    "                          range(len(states))]\n",
    "                node_values_fwd[j, i] = sum(values)\n",
    "\n",
    "    #end state value\n",
    "    end_state = np.multiply(node_values_fwd[:, -1], end_probs)\n",
    "    end_state_val = sum(end_state)\n",
    "    return node_values_fwd, end_state_val"
   ]
  },
  {
   "cell_type": "code",
   "execution_count": 366,
   "metadata": {},
   "outputs": [],
   "source": [
    "#function to find backward probabilities\n",
    "def backward_probs():\n",
    "    # node values stored during forward algorithm\n",
    "    node_values_bwd = np.zeros((len(states), len(test_sequence)))\n",
    "\n",
    "    #for i, sequence_val in enumerate(test_sequence):\n",
    "    for i in range(1,len(test_sequence)+1):\n",
    "        for j in range(len(states)):\n",
    "            # if first sequence value then do this\n",
    "            if (-i == -1):\n",
    "                node_values_bwd[j, -i] = end_probs[j]\n",
    "            # else perform this\n",
    "            else:\n",
    "                values = [node_values_bwd[k, -i+1] * emission[k, sequence_syms[test_sequence[-i+1]]] * transition[j, k] for k in range(len(states))]\n",
    "                node_values_bwd[j, -i] = sum(values)\n",
    "\n",
    "    #start state value\n",
    "    start_state = [node_values_bwd[m,0] * emission[m, sequence_syms[test_sequence[0]]] for m in range(len(states))]\n",
    "    start_state = np.multiply(start_state, start_probs)\n",
    "    start_state_val = sum(start_state)\n",
    "    return node_values_bwd, start_state_val\n",
    "\n",
    "\n",
    "#function to find si probabilities\n",
    "def si_probs(forward, backward, forward_val):\n",
    "\n",
    "    si_probabilities = np.zeros((len(states), len(test_sequence)-1, len(states)))\n",
    "\n",
    "    for i in range(len(test_sequence)-1):\n",
    "        for j in range(len(states)):\n",
    "            for k in range(len(states)):\n",
    "                si_probabilities[j,i,k] = ( forward[j,i] * backward[k,i+1] * transition[j,k] * emission[k,sequence_syms[test_sequence[i+1]]] ) \\\n",
    "                                                    / forward_val\n",
    "    return si_probabilities\n",
    "\n",
    "#function to find gamma probabilities\n",
    "def gamma_probs(forward, backward, forward_val):\n",
    "\n",
    "    gamma_probabilities = np.zeros((len(states), len(test_sequence)))\n",
    "\n",
    "    for i in range(len(test_sequence)):\n",
    "        for j in range(len(states)):\n",
    "            #gamma_probabilities[j,i] = ( forward[j,i] * backward[j,i] * emission[j,sequence_syms[test_sequence[i]]] ) / forward_val\n",
    "            gamma_probabilities[j, i] = (forward[j, i] * backward[j, i]) / forward_val\n",
    "\n",
    "    return gamma_probabilities"
   ]
  },
  {
   "cell_type": "code",
   "execution_count": 352,
   "metadata": {},
   "outputs": [
    {
     "ename": "ValueError",
     "evalue": "operands could not be broadcast together with shapes (2,6) (2,) ",
     "output_type": "error",
     "traceback": [
      "\u001b[1;31m---------------------------------------------------------------------------\u001b[0m",
      "\u001b[1;31mValueError\u001b[0m                                Traceback (most recent call last)",
      "\u001b[1;32m<ipython-input-352-5c2c249a5b21>\u001b[0m in \u001b[0;36m<module>\u001b[1;34m\u001b[0m\n\u001b[1;32m----> 1\u001b[1;33m \u001b[0mbaum_welch\u001b[0m\u001b[1;33m(\u001b[0m\u001b[1;36m2\u001b[0m\u001b[1;33m,\u001b[0m \u001b[1;36m6\u001b[0m\u001b[1;33m,\u001b[0m \u001b[0mY\u001b[0m\u001b[1;33m)\u001b[0m\u001b[1;33m\u001b[0m\u001b[1;33m\u001b[0m\u001b[0m\n\u001b[0m",
      "\u001b[1;32m<ipython-input-349-2b4c03d3bc90>\u001b[0m in \u001b[0;36mbaum_welch\u001b[1;34m(num_states, num_obs, observ)\u001b[0m\n\u001b[0;32m     33\u001b[0m     \u001b[0mA_mat\u001b[0m \u001b[1;33m=\u001b[0m \u001b[0mA_mat\u001b[0m \u001b[1;33m/\u001b[0m \u001b[0mnp\u001b[0m\u001b[1;33m.\u001b[0m\u001b[0msum\u001b[0m\u001b[1;33m(\u001b[0m\u001b[0mA_mat\u001b[0m\u001b[1;33m,\u001b[0m\u001b[1;36m1\u001b[0m\u001b[1;33m)\u001b[0m\u001b[1;33m\u001b[0m\u001b[1;33m\u001b[0m\u001b[0m\n\u001b[0;32m     34\u001b[0m     \u001b[0mO_mat\u001b[0m \u001b[1;33m=\u001b[0m \u001b[0mnp\u001b[0m\u001b[1;33m.\u001b[0m\u001b[0mones\u001b[0m\u001b[1;33m(\u001b[0m \u001b[1;33m(\u001b[0m\u001b[0mnum_states\u001b[0m\u001b[1;33m,\u001b[0m \u001b[0mnum_obs\u001b[0m\u001b[1;33m)\u001b[0m \u001b[1;33m)\u001b[0m\u001b[1;33m\u001b[0m\u001b[1;33m\u001b[0m\u001b[0m\n\u001b[1;32m---> 35\u001b[1;33m     \u001b[0mO_mat\u001b[0m \u001b[1;33m=\u001b[0m \u001b[0mO_mat\u001b[0m \u001b[1;33m/\u001b[0m \u001b[0mnp\u001b[0m\u001b[1;33m.\u001b[0m\u001b[0msum\u001b[0m\u001b[1;33m(\u001b[0m\u001b[0mO_mat\u001b[0m\u001b[1;33m,\u001b[0m\u001b[1;36m1\u001b[0m\u001b[1;33m)\u001b[0m\u001b[1;33m\u001b[0m\u001b[1;33m\u001b[0m\u001b[0m\n\u001b[0m\u001b[0;32m     36\u001b[0m     \u001b[0mtheta\u001b[0m \u001b[1;33m=\u001b[0m \u001b[0mnp\u001b[0m\u001b[1;33m.\u001b[0m\u001b[0mzeros\u001b[0m\u001b[1;33m(\u001b[0m \u001b[1;33m(\u001b[0m\u001b[0mnum_states\u001b[0m\u001b[1;33m,\u001b[0m \u001b[0mnum_states\u001b[0m\u001b[1;33m,\u001b[0m \u001b[0mobserv\u001b[0m\u001b[1;33m.\u001b[0m\u001b[0msize\u001b[0m\u001b[1;33m)\u001b[0m \u001b[1;33m)\u001b[0m\u001b[1;33m\u001b[0m\u001b[1;33m\u001b[0m\u001b[0m\n\u001b[0;32m     37\u001b[0m     \u001b[1;32mwhile\u001b[0m \u001b[1;32mTrue\u001b[0m\u001b[1;33m:\u001b[0m\u001b[1;33m\u001b[0m\u001b[1;33m\u001b[0m\u001b[0m\n",
      "\u001b[1;31mValueError\u001b[0m: operands could not be broadcast together with shapes (2,6) (2,) "
     ]
    }
   ],
   "source": [
    "baum_welch(2, 6, Y)"
   ]
  },
  {
   "cell_type": "code",
   "execution_count": 351,
   "metadata": {},
   "outputs": [
    {
     "data": {
      "text/plain": [
       "{1, 2, 3, 4, 5, 6}"
      ]
     },
     "execution_count": 351,
     "metadata": {},
     "output_type": "execute_result"
    }
   ],
   "source": [
    "set(s)"
   ]
  },
  {
   "cell_type": "code",
   "execution_count": 353,
   "metadata": {},
   "outputs": [],
   "source": [
    "num_obs = 25\n",
    "observations1 = np.random.randn( num_obs )\n",
    "observations1[observations1>0] = 1\n",
    "observations1[observations1<=0] = 0"
   ]
  },
  {
   "cell_type": "code",
   "execution_count": 356,
   "metadata": {},
   "outputs": [
    {
     "ename": "IndexError",
     "evalue": "only integers, slices (`:`), ellipsis (`...`), numpy.newaxis (`None`) and integer or boolean arrays are valid indices",
     "output_type": "error",
     "traceback": [
      "\u001b[1;31m---------------------------------------------------------------------------\u001b[0m",
      "\u001b[1;31mIndexError\u001b[0m                                Traceback (most recent call last)",
      "\u001b[1;32m<ipython-input-356-7a2a88757dfd>\u001b[0m in \u001b[0;36m<module>\u001b[1;34m\u001b[0m\n\u001b[1;32m----> 1\u001b[1;33m \u001b[0mA_mat\u001b[0m\u001b[1;33m,\u001b[0m \u001b[0mO_mat\u001b[0m \u001b[1;33m=\u001b[0m \u001b[0mbaum_welch\u001b[0m\u001b[1;33m(\u001b[0m\u001b[1;36m2\u001b[0m\u001b[1;33m,\u001b[0m\u001b[1;36m2\u001b[0m\u001b[1;33m,\u001b[0m\u001b[0mobservations1\u001b[0m\u001b[1;33m)\u001b[0m\u001b[1;33m\u001b[0m\u001b[1;33m\u001b[0m\u001b[0m\n\u001b[0m",
      "\u001b[1;32m<ipython-input-355-6fc8ffd03f7e>\u001b[0m in \u001b[0;36mbaum_welch\u001b[1;34m(num_states, num_obs, observ)\u001b[0m\n\u001b[0;32m     41\u001b[0m         \u001b[0mO_mat\u001b[0m \u001b[1;33m=\u001b[0m \u001b[0mnp\u001b[0m\u001b[1;33m.\u001b[0m\u001b[0mones\u001b[0m\u001b[1;33m(\u001b[0m \u001b[1;33m(\u001b[0m\u001b[0mnum_states\u001b[0m\u001b[1;33m,\u001b[0m \u001b[0mnum_obs\u001b[0m\u001b[1;33m)\u001b[0m \u001b[1;33m)\u001b[0m\u001b[1;33m\u001b[0m\u001b[1;33m\u001b[0m\u001b[0m\n\u001b[0;32m     42\u001b[0m         \u001b[1;31m# expectation step, forward and backward probs\u001b[0m\u001b[1;33m\u001b[0m\u001b[1;33m\u001b[0m\u001b[1;33m\u001b[0m\u001b[0m\n\u001b[1;32m---> 43\u001b[1;33m         \u001b[0mP\u001b[0m\u001b[1;33m,\u001b[0m\u001b[0mF\u001b[0m\u001b[1;33m,\u001b[0m\u001b[0mB\u001b[0m \u001b[1;33m=\u001b[0m \u001b[0mfb_alg\u001b[0m\u001b[1;33m(\u001b[0m \u001b[0mold_A\u001b[0m\u001b[1;33m,\u001b[0m \u001b[0mold_O\u001b[0m\u001b[1;33m,\u001b[0m \u001b[0mobserv\u001b[0m\u001b[1;33m)\u001b[0m\u001b[1;33m\u001b[0m\u001b[1;33m\u001b[0m\u001b[0m\n\u001b[0m\u001b[0;32m     44\u001b[0m         \u001b[1;31m# need to get transitional probabilities at each time step too\u001b[0m\u001b[1;33m\u001b[0m\u001b[1;33m\u001b[0m\u001b[1;33m\u001b[0m\u001b[0m\n\u001b[0;32m     45\u001b[0m         \u001b[1;32mfor\u001b[0m \u001b[0ma_ind\u001b[0m \u001b[1;32min\u001b[0m \u001b[0mrange\u001b[0m\u001b[1;33m(\u001b[0m\u001b[0mnum_states\u001b[0m\u001b[1;33m)\u001b[0m\u001b[1;33m:\u001b[0m\u001b[1;33m\u001b[0m\u001b[1;33m\u001b[0m\u001b[0m\n",
      "\u001b[1;32m<ipython-input-355-6fc8ffd03f7e>\u001b[0m in \u001b[0;36mfb_alg\u001b[1;34m(A_mat, O_mat, observ)\u001b[0m\n\u001b[0;32m     12\u001b[0m         \u001b[0mfw\u001b[0m\u001b[1;33m[\u001b[0m\u001b[1;33m:\u001b[0m\u001b[1;33m,\u001b[0m \u001b[0mobs_ind\u001b[0m\u001b[1;33m+\u001b[0m\u001b[1;36m1\u001b[0m\u001b[1;33m]\u001b[0m \u001b[1;33m=\u001b[0m \u001b[0mf_row_vec\u001b[0m \u001b[1;33m*\u001b[0m\u001b[0;31m \u001b[0m\u001b[0;31m\\\u001b[0m\u001b[1;33m\u001b[0m\u001b[1;33m\u001b[0m\u001b[0m\n\u001b[0;32m     13\u001b[0m                            \u001b[0mnp\u001b[0m\u001b[1;33m.\u001b[0m\u001b[0mmatrix\u001b[0m\u001b[1;33m(\u001b[0m\u001b[0mA_mat\u001b[0m\u001b[1;33m)\u001b[0m \u001b[1;33m*\u001b[0m\u001b[0;31m \u001b[0m\u001b[0;31m\\\u001b[0m\u001b[1;33m\u001b[0m\u001b[1;33m\u001b[0m\u001b[0m\n\u001b[1;32m---> 14\u001b[1;33m                            \u001b[0mnp\u001b[0m\u001b[1;33m.\u001b[0m\u001b[0mmatrix\u001b[0m\u001b[1;33m(\u001b[0m\u001b[0mnp\u001b[0m\u001b[1;33m.\u001b[0m\u001b[0mdiag\u001b[0m\u001b[1;33m(\u001b[0m\u001b[0mO_mat\u001b[0m\u001b[1;33m[\u001b[0m\u001b[1;33m:\u001b[0m\u001b[1;33m,\u001b[0m\u001b[0mobserv\u001b[0m\u001b[1;33m[\u001b[0m\u001b[0mobs_ind\u001b[0m\u001b[1;33m]\u001b[0m\u001b[1;33m]\u001b[0m\u001b[1;33m)\u001b[0m\u001b[1;33m)\u001b[0m\u001b[1;33m\u001b[0m\u001b[1;33m\u001b[0m\u001b[0m\n\u001b[0m\u001b[0;32m     15\u001b[0m         \u001b[0mfw\u001b[0m\u001b[1;33m[\u001b[0m\u001b[1;33m:\u001b[0m\u001b[1;33m,\u001b[0m\u001b[0mobs_ind\u001b[0m\u001b[1;33m+\u001b[0m\u001b[1;36m1\u001b[0m\u001b[1;33m]\u001b[0m \u001b[1;33m=\u001b[0m \u001b[0mfw\u001b[0m\u001b[1;33m[\u001b[0m\u001b[1;33m:\u001b[0m\u001b[1;33m,\u001b[0m\u001b[0mobs_ind\u001b[0m\u001b[1;33m+\u001b[0m\u001b[1;36m1\u001b[0m\u001b[1;33m]\u001b[0m\u001b[1;33m/\u001b[0m\u001b[0mnp\u001b[0m\u001b[1;33m.\u001b[0m\u001b[0msum\u001b[0m\u001b[1;33m(\u001b[0m\u001b[0mfw\u001b[0m\u001b[1;33m[\u001b[0m\u001b[1;33m:\u001b[0m\u001b[1;33m,\u001b[0m\u001b[0mobs_ind\u001b[0m\u001b[1;33m+\u001b[0m\u001b[1;36m1\u001b[0m\u001b[1;33m]\u001b[0m\u001b[1;33m)\u001b[0m\u001b[1;33m\u001b[0m\u001b[1;33m\u001b[0m\u001b[0m\n\u001b[0;32m     16\u001b[0m     \u001b[1;31m# backward part\u001b[0m\u001b[1;33m\u001b[0m\u001b[1;33m\u001b[0m\u001b[1;33m\u001b[0m\u001b[0m\n",
      "\u001b[1;31mIndexError\u001b[0m: only integers, slices (`:`), ellipsis (`...`), numpy.newaxis (`None`) and integer or boolean arrays are valid indices"
     ]
    }
   ],
   "source": [
    "A_mat, O_mat = baum_welch(2,2,observations1)"
   ]
  },
  {
   "cell_type": "code",
   "execution_count": null,
   "metadata": {},
   "outputs": [],
   "source": []
  }
 ],
 "metadata": {
  "kernelspec": {
   "display_name": "Python 3",
   "language": "python",
   "name": "python3"
  },
  "language_info": {
   "codemirror_mode": {
    "name": "ipython",
    "version": 3
   },
   "file_extension": ".py",
   "mimetype": "text/x-python",
   "name": "python",
   "nbconvert_exporter": "python",
   "pygments_lexer": "ipython3",
   "version": "3.7.4"
  }
 },
 "nbformat": 4,
 "nbformat_minor": 2
}
